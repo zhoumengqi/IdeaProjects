{
 "cells": [
  {
   "cell_type": "markdown",
   "metadata": {},
   "source": [
    " #  corr相关系数筛选特征"
   ]
  },
  {
   "cell_type": "code",
   "execution_count": 3,
   "metadata": {
    "collapsed": true
   },
   "outputs": [],
   "source": [
    "import pandas as pd\n",
    "train_df=pd.read_csv('./happiness_train_complete.csv',index_col=0,encoding='gb2312')\n",
    "test_df=pd.read_csv('./happiness_test_complete.csv',index_col=0,encoding='gb2312')\n",
    "import  seaborn as sns#绘图库\n",
    "from sklearn.metrics import fbeta_score, make_scorer\n",
    "from sklearn.model_selection import GridSearchCV \n",
    "#填充缺失值\n",
    "from sklearn.preprocessing import Imputer\n",
    "from sklearn.metrics import fbeta_score, make_scorer\n",
    "from xgboost.sklearn import XGBRegressor\n",
    "import numpy as np\n",
    "from sklearn.model_selection import train_test_split\n",
    "from sklearn import preprocessing"
   ]
  },
  {
   "cell_type": "code",
   "execution_count": 4,
   "metadata": {},
   "outputs": [
    {
     "name": "stderr",
     "output_type": "stream",
     "text": [
      "D:\\ProgramData\\Anaconda3\\lib\\site-packages\\ipykernel_launcher.py:2: SettingWithCopyWarning: \n",
      "A value is trying to be set on a copy of a slice from a DataFrame\n",
      "\n",
      "See the caveats in the documentation: http://pandas.pydata.org/pandas-docs/stable/indexing.html#indexing-view-versus-copy\n",
      "  \n"
     ]
    },
    {
     "data": {
      "text/plain": [
       "(8000,)"
      ]
     },
     "execution_count": 4,
     "metadata": {},
     "output_type": "execute_result"
    }
   ],
   "source": [
    "y=train_df.happiness\n",
    "y[y<0]=0.0001\n",
    "y.shape"
   ]
  },
  {
   "cell_type": "code",
   "execution_count": 5,
   "metadata": {
    "collapsed": true
   },
   "outputs": [],
   "source": [
    "train_df.drop(['happiness'],axis=1,inplace=True)\n",
    "all_data=pd.concat([train_df,test_df])#拼接两个数据集，便于统一操作"
   ]
  },
  {
   "cell_type": "code",
   "execution_count": 6,
   "metadata": {
    "collapsed": true
   },
   "outputs": [],
   "source": [
    "cate_columns=[\n",
    "             'province','city','county','gender','nationality','edu','edu_status'\n",
    "             ,'political','health','hukou','hukou_loc','work_exper'\n",
    "             ,'work_status','family_m','son','daughter'\n",
    "              ,'minor_child','marital','s_edu','s_political','s_hukou','s_work_exper'\n",
    "             ,'f_edu','f_work_14','m_edu','m_political','m_work_14'\n",
    "            ]\n",
    "del_columns=['survey_time','edu_other','edu_yr','join_party','property_other',\n",
    "             'work_yr','work_type','work_manage','invest_other','s_work_type'\n",
    "             ,'f_birth','m_birth','inc_exp','marital_1st','marital_now','s_work_status']\n",
    "num_columns=[cat for cat in all_data if cat not in cate_columns and cat not in del_columns]\n"
   ]
  },
  {
   "cell_type": "code",
   "execution_count": 7,
   "metadata": {
    "collapsed": true
   },
   "outputs": [],
   "source": [
    "all_data_dummies=all_data.drop(del_columns,axis=1)#删除感觉没用的列\n",
    "\n",
    "all_data_dummies = pd.get_dummies(data=all_data_dummies,columns=cate_columns)#对部分特征进行one hot编码"
   ]
  },
  {
   "cell_type": "code",
   "execution_count": 8,
   "metadata": {
    "collapsed": true
   },
   "outputs": [],
   "source": [
    "#归一化\n",
    "s = (all_data_dummies[num_columns] - all_data_dummies[num_columns].min())/(all_data_dummies[num_columns].max() - all_data_dummies[num_columns].min())\n",
    "all_data_dummies[s.columns] = s\n"
   ]
  },
  {
   "cell_type": "code",
   "execution_count": 9,
   "metadata": {},
   "outputs": [
    {
     "name": "stderr",
     "output_type": "stream",
     "text": [
      "D:\\ProgramData\\Anaconda3\\lib\\site-packages\\sklearn\\utils\\deprecation.py:58: DeprecationWarning: Class Imputer is deprecated; Imputer was deprecated in version 0.20 and will be removed in 0.22. Import impute.SimpleImputer from sklearn instead.\n",
      "  warnings.warn(msg, category=DeprecationWarning)\n"
     ]
    }
   ],
   "source": [
    "im = Imputer(strategy=\"most_frequent\",axis=1)#众数填充\n",
    "filled_nan_data = im.fit_transform(all_data_dummies)\n",
    "filled_nan_data=pd.DataFrame(filled_nan_data,index=range(1,len(all_data)+1))\n",
    "filled_nan_data.columns=all_data_dummies.columns"
   ]
  },
  {
   "cell_type": "code",
   "execution_count": 10,
   "metadata": {},
   "outputs": [
    {
     "name": "stderr",
     "output_type": "stream",
     "text": [
      "D:\\ProgramData\\Anaconda3\\lib\\site-packages\\sklearn\\model_selection\\_split.py:2179: FutureWarning: From version 0.21, test_size will always complement train_size unless both are specified.\n",
      "  FutureWarning)\n"
     ]
    },
    {
     "data": {
      "text/plain": [
       "(7200, 564)"
      ]
     },
     "execution_count": 10,
     "metadata": {},
     "output_type": "execute_result"
    }
   ],
   "source": [
    "X =filled_nan_data.loc[train_df.index]#重新分开数据，\n",
    "X_test=filled_nan_data.loc[test_df.index]#X_val 就是要预测的x\n",
    "X_train,X_val,y_train,y_val = train_test_split(X,y,train_size=0.9,random_state=10)\n",
    "\n",
    "X_train.shape"
   ]
  },
  {
   "cell_type": "code",
   "execution_count": null,
   "metadata": {
    "collapsed": true
   },
   "outputs": [],
   "source": [
    "#调参\n",
    "cv_params = {\n",
    "#             'n_estimators': [80,90,100,110,120],\n",
    "#             'learning_rate': [0.5,0.4,0.3,0.2,0.1,0.075,0.05,0.04,0.03],\n",
    "#             'subsample':[ 0.1 * i for i in range(6,9)],\n",
    "#             'colsample_bytree':[ 0.1 * i for i in range(6,9)],\n",
    "#             'gamma':[ 0.1 * i for i in range(0,5)],\n",
    "#             'max_depth': list(range(4,9)), \n",
    "#             'min_child_weight': list((1,3,6))\n",
    "}\n",
    "# cv_params = {'n_estimators': [100,150]}\n",
    "other_params = { 'max_depth': 3, 'min_child_weight': 1, 'seed': 0,'random_state':42,'learning_rate':0.105,\n",
    "                'subsample':0.89, 'colsample_bytree': 0.7, 'gamma': 0, 'reg_alpha': 0, 'reg_lambda': 1,'n_jobs':-1}\n",
    "\n",
    "model = XGBRegressor(**other_params)\n",
    "# model = XGBRegressor()\n",
    "optimized_GBM = GridSearchCV(estimator=model, param_grid=cv_params, scoring='neg_mean_squared_error', cv=5, verbose=3)\n",
    "optimized_GBM.fit(X=X_train,y= (y_train))\n",
    "print(optimized_GBM.best_estimator_)\n",
    "print('参数的最佳取值：{0}'.format(optimized_GBM.best_params_))\n",
    "print('最佳模型得分:{0}'.format(optimized_GBM.best_score_))\n",
    "y_pred=optimized_GBM.best_estimator_.predict(X_val)\n",
    "print('泛化性能均方误差:',np.mean((y_val-(y_pred))**2))"
   ]
  }
 ],
 "metadata": {
  "kernelspec": {
   "display_name": "Python 3",
   "language": "python",
   "name": "python3"
  },
  "language_info": {
   "codemirror_mode": {
    "name": "ipython",
    "version": 3
   },
   "file_extension": ".py",
   "mimetype": "text/x-python",
   "name": "python",
   "nbconvert_exporter": "python",
   "pygments_lexer": "ipython3",
   "version": "3.6.1"
  }
 },
 "nbformat": 4,
 "nbformat_minor": 2
}
