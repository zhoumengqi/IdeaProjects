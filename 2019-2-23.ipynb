{
 "cells": [
  {
   "cell_type": "code",
   "execution_count": 1,
   "metadata": {
    "collapsed": true
   },
   "outputs": [],
   "source": [
    "import numpy as np\n",
    "import pandas as pd\n",
    "train_df=pd.read_csv('./happiness_train_abbr.csv',index_col=0)\n",
    "test_df=pd.read_csv('./happiness_test_abbr.csv',index_col=0)\n",
    "import  seaborn as sns\n",
    "%matplotlib inline\n",
    "import xgboost as xgb\n",
    "from xgboost.sklearn import XGBClassifier"
   ]
  },
  {
   "cell_type": "code",
   "execution_count": 2,
   "metadata": {},
   "outputs": [
    {
     "data": {
      "text/html": [
       "<div>\n",
       "<style>\n",
       "    .dataframe thead tr:only-child th {\n",
       "        text-align: right;\n",
       "    }\n",
       "\n",
       "    .dataframe thead th {\n",
       "        text-align: left;\n",
       "    }\n",
       "\n",
       "    .dataframe tbody tr th {\n",
       "        vertical-align: top;\n",
       "    }\n",
       "</style>\n",
       "<table border=\"1\" class=\"dataframe\">\n",
       "  <thead>\n",
       "    <tr style=\"text-align: right;\">\n",
       "      <th></th>\n",
       "      <th>happiness</th>\n",
       "      <th>survey_type</th>\n",
       "      <th>province</th>\n",
       "      <th>city</th>\n",
       "      <th>county</th>\n",
       "      <th>survey_time</th>\n",
       "      <th>gender</th>\n",
       "      <th>birth</th>\n",
       "      <th>nationality</th>\n",
       "      <th>religion</th>\n",
       "      <th>...</th>\n",
       "      <th>family_income</th>\n",
       "      <th>family_m</th>\n",
       "      <th>family_status</th>\n",
       "      <th>house</th>\n",
       "      <th>car</th>\n",
       "      <th>marital</th>\n",
       "      <th>status_peer</th>\n",
       "      <th>status_3_before</th>\n",
       "      <th>view</th>\n",
       "      <th>inc_ability</th>\n",
       "    </tr>\n",
       "    <tr>\n",
       "      <th>id</th>\n",
       "      <th></th>\n",
       "      <th></th>\n",
       "      <th></th>\n",
       "      <th></th>\n",
       "      <th></th>\n",
       "      <th></th>\n",
       "      <th></th>\n",
       "      <th></th>\n",
       "      <th></th>\n",
       "      <th></th>\n",
       "      <th></th>\n",
       "      <th></th>\n",
       "      <th></th>\n",
       "      <th></th>\n",
       "      <th></th>\n",
       "      <th></th>\n",
       "      <th></th>\n",
       "      <th></th>\n",
       "      <th></th>\n",
       "      <th></th>\n",
       "      <th></th>\n",
       "    </tr>\n",
       "  </thead>\n",
       "  <tbody>\n",
       "    <tr>\n",
       "      <th>1</th>\n",
       "      <td>4</td>\n",
       "      <td>1</td>\n",
       "      <td>12</td>\n",
       "      <td>32</td>\n",
       "      <td>59</td>\n",
       "      <td>2015/8/4 14:18</td>\n",
       "      <td>1</td>\n",
       "      <td>1959</td>\n",
       "      <td>1</td>\n",
       "      <td>1</td>\n",
       "      <td>...</td>\n",
       "      <td>60000.0</td>\n",
       "      <td>2</td>\n",
       "      <td>2</td>\n",
       "      <td>1</td>\n",
       "      <td>2</td>\n",
       "      <td>3</td>\n",
       "      <td>3</td>\n",
       "      <td>2</td>\n",
       "      <td>4</td>\n",
       "      <td>3</td>\n",
       "    </tr>\n",
       "    <tr>\n",
       "      <th>2</th>\n",
       "      <td>4</td>\n",
       "      <td>2</td>\n",
       "      <td>18</td>\n",
       "      <td>52</td>\n",
       "      <td>85</td>\n",
       "      <td>2015/7/21 15:04</td>\n",
       "      <td>1</td>\n",
       "      <td>1992</td>\n",
       "      <td>1</td>\n",
       "      <td>1</td>\n",
       "      <td>...</td>\n",
       "      <td>40000.0</td>\n",
       "      <td>3</td>\n",
       "      <td>4</td>\n",
       "      <td>1</td>\n",
       "      <td>2</td>\n",
       "      <td>1</td>\n",
       "      <td>1</td>\n",
       "      <td>1</td>\n",
       "      <td>4</td>\n",
       "      <td>2</td>\n",
       "    </tr>\n",
       "    <tr>\n",
       "      <th>3</th>\n",
       "      <td>4</td>\n",
       "      <td>2</td>\n",
       "      <td>29</td>\n",
       "      <td>83</td>\n",
       "      <td>126</td>\n",
       "      <td>2015/7/21 13:24</td>\n",
       "      <td>2</td>\n",
       "      <td>1967</td>\n",
       "      <td>1</td>\n",
       "      <td>0</td>\n",
       "      <td>...</td>\n",
       "      <td>8000.0</td>\n",
       "      <td>3</td>\n",
       "      <td>3</td>\n",
       "      <td>1</td>\n",
       "      <td>2</td>\n",
       "      <td>3</td>\n",
       "      <td>2</td>\n",
       "      <td>1</td>\n",
       "      <td>4</td>\n",
       "      <td>2</td>\n",
       "    </tr>\n",
       "    <tr>\n",
       "      <th>4</th>\n",
       "      <td>5</td>\n",
       "      <td>2</td>\n",
       "      <td>10</td>\n",
       "      <td>28</td>\n",
       "      <td>51</td>\n",
       "      <td>2015/7/25 17:33</td>\n",
       "      <td>2</td>\n",
       "      <td>1943</td>\n",
       "      <td>1</td>\n",
       "      <td>1</td>\n",
       "      <td>...</td>\n",
       "      <td>12000.0</td>\n",
       "      <td>3</td>\n",
       "      <td>3</td>\n",
       "      <td>1</td>\n",
       "      <td>1</td>\n",
       "      <td>7</td>\n",
       "      <td>2</td>\n",
       "      <td>1</td>\n",
       "      <td>3</td>\n",
       "      <td>2</td>\n",
       "    </tr>\n",
       "    <tr>\n",
       "      <th>5</th>\n",
       "      <td>4</td>\n",
       "      <td>1</td>\n",
       "      <td>7</td>\n",
       "      <td>18</td>\n",
       "      <td>36</td>\n",
       "      <td>2015/8/10 9:50</td>\n",
       "      <td>2</td>\n",
       "      <td>1994</td>\n",
       "      <td>1</td>\n",
       "      <td>1</td>\n",
       "      <td>...</td>\n",
       "      <td>-2.0</td>\n",
       "      <td>4</td>\n",
       "      <td>3</td>\n",
       "      <td>1</td>\n",
       "      <td>1</td>\n",
       "      <td>1</td>\n",
       "      <td>3</td>\n",
       "      <td>2</td>\n",
       "      <td>3</td>\n",
       "      <td>-8</td>\n",
       "    </tr>\n",
       "  </tbody>\n",
       "</table>\n",
       "<p>5 rows × 41 columns</p>\n",
       "</div>"
      ],
      "text/plain": [
       "    happiness  survey_type  province  city  county      survey_time  gender  \\\n",
       "id                                                                            \n",
       "1           4            1        12    32      59   2015/8/4 14:18       1   \n",
       "2           4            2        18    52      85  2015/7/21 15:04       1   \n",
       "3           4            2        29    83     126  2015/7/21 13:24       2   \n",
       "4           5            2        10    28      51  2015/7/25 17:33       2   \n",
       "5           4            1         7    18      36   2015/8/10 9:50       2   \n",
       "\n",
       "    birth  nationality  religion     ...       family_income  family_m  \\\n",
       "id                                   ...                                 \n",
       "1    1959            1         1     ...             60000.0         2   \n",
       "2    1992            1         1     ...             40000.0         3   \n",
       "3    1967            1         0     ...              8000.0         3   \n",
       "4    1943            1         1     ...             12000.0         3   \n",
       "5    1994            1         1     ...                -2.0         4   \n",
       "\n",
       "    family_status  house  car  marital  status_peer  status_3_before  view  \\\n",
       "id                                                                           \n",
       "1               2      1    2        3            3                2     4   \n",
       "2               4      1    2        1            1                1     4   \n",
       "3               3      1    2        3            2                1     4   \n",
       "4               3      1    1        7            2                1     3   \n",
       "5               3      1    1        1            3                2     3   \n",
       "\n",
       "    inc_ability  \n",
       "id               \n",
       "1             3  \n",
       "2             2  \n",
       "3             2  \n",
       "4             2  \n",
       "5            -8  \n",
       "\n",
       "[5 rows x 41 columns]"
      ]
     },
     "execution_count": 2,
     "metadata": {},
     "output_type": "execute_result"
    }
   ],
   "source": [
    "train_df.head()"
   ]
  },
  {
   "cell_type": "code",
   "execution_count": 3,
   "metadata": {},
   "outputs": [
    {
     "data": {
      "text/plain": [
       "array([4818, 1410, 1159,  497,  104,   12], dtype=int64)"
      ]
     },
     "execution_count": 3,
     "metadata": {},
     "output_type": "execute_result"
    }
   ],
   "source": [
    "happiness=train_df.happiness.value_counts()\n",
    "happiness.values"
   ]
  },
  {
   "cell_type": "code",
   "execution_count": 4,
   "metadata": {},
   "outputs": [
    {
     "data": {
      "text/plain": [
       "<matplotlib.axes._subplots.AxesSubplot at 0x1b6a03120b8>"
      ]
     },
     "execution_count": 4,
     "metadata": {},
     "output_type": "execute_result"
    },
    {
     "data": {
      "image/png": "[encoded data removed]",
      "text/plain": [
       "<matplotlib.figure.Figure at 0x1b6d17b97f0>"
      ]
     },
     "metadata": {},
     "output_type": "display_data"
    }
   ],
   "source": [
    "sns.barplot(x=happiness.index,y=happiness.values)#样本不太均衡"
   ]
  },
  {
   "cell_type": "code",
   "execution_count": 5,
   "metadata": {},
   "outputs": [],
   "source": [
    "# train_df.info()"
   ]
  },
  {
   "cell_type": "code",
   "execution_count": 6,
   "metadata": {
    "collapsed": true
   },
   "outputs": [],
   "source": [
    "drop_feature=['survey_time']"
   ]
  },
  {
   "cell_type": "code",
   "execution_count": 7,
   "metadata": {},
   "outputs": [
    {
     "data": {
      "text/plain": [
       "<matplotlib.axes._subplots.AxesSubplot at 0x1b6d1885e10>"
      ]
     },
     "execution_count": 7,
     "metadata": {},
     "output_type": "execute_result"
    },
    {
     "data": {
      "image/png": "[encoded data removed]",
      "text/plain": [
       "<matplotlib.figure.Figure at 0x1b6d17b9780>"
      ]
     },
     "metadata": {},
     "output_type": "display_data"
    }
   ],
   "source": [
    "age=2018-train_df.birth\n",
    "age_count=age.value_counts()\n",
    "sns.barplot(age_count.index,age_count.values,)#年龄分布"
   ]
  },
  {
   "cell_type": "code",
   "execution_count": 8,
   "metadata": {},
   "outputs": [
    {
     "data": {
      "text/plain": [
       "array([59, 26, 51, ..., 51, 40, 27], dtype=int64)"
      ]
     },
     "execution_count": 8,
     "metadata": {},
     "output_type": "execute_result"
    }
   ],
   "source": [
    "# sns.barplot(x=age.index,age.values)\n",
    "age.values"
   ]
  },
  {
   "cell_type": "code",
   "execution_count": 9,
   "metadata": {},
   "outputs": [],
   "source": [
    "y_train=train_df.happiness\n",
    "#合并测试和训练集，\n",
    "train_df=train_df.drop(['happiness'],axis=1)\n",
    "all_data=pd.concat([train_df,test_df])\n",
    "# all_data\n",
    "\n"
   ]
  },
  {
   "cell_type": "code",
   "execution_count": 10,
   "metadata": {},
   "outputs": [],
   "source": [
    "#删除survey_time列，因为提交时间跟幸福感没有多大关系\n",
    "all_data=all_data.drop(['survey_time'],axis=1)\n"
   ]
  },
  {
   "cell_type": "code",
   "execution_count": 11,
   "metadata": {},
   "outputs": [
    {
     "name": "stderr",
     "output_type": "stream",
     "text": [
      "D:\\ProgramData\\Anaconda3\\lib\\site-packages\\sklearn\\utils\\deprecation.py:58: DeprecationWarning: Class Imputer is deprecated; Imputer was deprecated in version 0.20 and will be removed in 0.22. Import impute.SimpleImputer from sklearn instead.\n",
      "  warnings.warn(msg, category=DeprecationWarning)\n"
     ]
    }
   ],
   "source": [
    "#填充缺失值\n",
    "from sklearn.preprocessing import Imputer\n",
    "im = Imputer(strategy=\"median\",axis=1)#中位数填充\n",
    "filled_nan_data = im.fit_transform(all_data)\n",
    "all_data=pd.DataFrame(filled_nan_data,index=range(1,len(all_data)+1),columns=all_data.columns)\n",
    "# all_data.info()"
   ]
  },
  {
   "cell_type": "code",
   "execution_count": 12,
   "metadata": {
    "collapsed": true
   },
   "outputs": [],
   "source": [
    "X_train =all_data.loc[train_df.index]\n",
    "X_val=all_data.loc[test_df.index]\n",
    "# X_test"
   ]
  },
  {
   "cell_type": "code",
   "execution_count": 13,
   "metadata": {
    "collapsed": true
   },
   "outputs": [],
   "source": [
    "#首先自定义得分函数\n",
    "def my_metric(y_pred,y_true):\n",
    "    label=y_true.get_label()\n",
    "#     print(y_pred.shape)#预测出来的是概率值，每行六个概率，\n",
    "    arr=np.argmax(y_pred,axis=1)\n",
    "#     print(arr)\n",
    "#     print(label)\n",
    "    return 'my_metric',np.abs(np.mean((label-arr)**2))"
   ]
  },
  {
   "cell_type": "code",
   "execution_count": 14,
   "metadata": {},
   "outputs": [],
   "source": [
    "X=X_train\n",
    "y=y_train\n",
    "from sklearn.model_selection import train_test_split\n",
    "X_train,X_test,y_train,y_test=train_test_split(X,y,test_size=0.33,random_state=42)"
   ]
  },
  {
   "cell_type": "code",
   "execution_count": 15,
   "metadata": {
    "collapsed": true
   },
   "outputs": [],
   "source": [
    "def my_loss(y_pred,y_true):\n",
    "#     print(y_pred)\n",
    "#     print(y_true)\n",
    "#     print(np.abs(np.mean((y_pred-y_true)**2)))\n",
    "    return np.abs(np.mean((y_pred-y_true)**2))"
   ]
  },
  {
   "cell_type": "code",
   "execution_count": 27,
   "metadata": {
    "scrolled": true
   },
   "outputs": [
    {
     "name": "stdout",
     "output_type": "stream",
     "text": [
      "Fitting 5 folds for each of 15 candidates, totalling 75 fits\n",
      "[CV] max_depth=4, min_child_weight=1 .................................\n"
     ]
    },
    {
     "name": "stderr",
     "output_type": "stream",
     "text": [
      "[Parallel(n_jobs=1)]: Using backend SequentialBackend with 1 concurrent workers.\n"
     ]
    },
    {
     "name": "stdout",
     "output_type": "stream",
     "text": [
      "[CV] ..... max_depth=4, min_child_weight=1, score=-0.76, total=   0.9s\n",
      "[CV] max_depth=4, min_child_weight=1 .................................\n"
     ]
    },
    {
     "name": "stderr",
     "output_type": "stream",
     "text": [
      "[Parallel(n_jobs=1)]: Done   1 out of   1 | elapsed:    1.0s remaining:    0.0s\n"
     ]
    },
    {
     "name": "stdout",
     "output_type": "stream",
     "text": [
      "[CV]  max_depth=4, min_child_weight=1, score=-0.8732525629077353, total=   1.0s\n",
      "[CV] max_depth=4, min_child_weight=1 .................................\n"
     ]
    },
    {
     "name": "stderr",
     "output_type": "stream",
     "text": [
      "[Parallel(n_jobs=1)]: Done   2 out of   2 | elapsed:    2.0s remaining:    0.0s\n"
     ]
    },
    {
     "name": "stdout",
     "output_type": "stream",
     "text": [
      "[CV]  max_depth=4, min_child_weight=1, score=-0.6984126984126984, total=   0.9s\n",
      "[CV] max_depth=4, min_child_weight=1 .................................\n",
      "[CV]  max_depth=4, min_child_weight=1, score=-0.7320261437908496, total=   1.0s\n",
      "[CV] max_depth=4, min_child_weight=1 .................................\n",
      "[CV]  max_depth=4, min_child_weight=1, score=-0.6654205607476635, total=   1.0s\n",
      "[CV] max_depth=4, min_child_weight=3 .................................\n",
      "[CV]  max_depth=4, min_child_weight=3, score=-0.7525581395348837, total=   0.9s\n",
      "[CV] max_depth=4, min_child_weight=3 .................................\n",
      "[CV]  max_depth=4, min_child_weight=3, score=-0.8630009319664492, total=   0.9s\n",
      "[CV] max_depth=4, min_child_weight=3 .................................\n",
      "[CV]  max_depth=4, min_child_weight=3, score=-0.6853408029878618, total=   0.9s\n",
      "[CV] max_depth=4, min_child_weight=3 .................................\n",
      "[CV]  max_depth=4, min_child_weight=3, score=-0.7245564892623716, total=   0.9s\n",
      "[CV] max_depth=4, min_child_weight=3 .................................\n",
      "[CV]  max_depth=4, min_child_weight=3, score=-0.7009345794392523, total=   0.9s\n",
      "[CV] max_depth=4, min_child_weight=6 .................................\n",
      "[CV]  max_depth=4, min_child_weight=6, score=-0.7637209302325582, total=   0.9s\n",
      "[CV] max_depth=4, min_child_weight=6 .................................\n",
      "[CV]  max_depth=4, min_child_weight=6, score=-0.8797763280521901, total=   0.9s\n",
      "[CV] max_depth=4, min_child_weight=6 .................................\n",
      "[CV]  max_depth=4, min_child_weight=6, score=-0.6909430438842203, total=   0.9s\n",
      "[CV] max_depth=4, min_child_weight=6 .................................\n",
      "[CV]  max_depth=4, min_child_weight=6, score=-0.7254901960784313, total=   0.9s\n",
      "[CV] max_depth=4, min_child_weight=6 .................................\n",
      "[CV]  max_depth=4, min_child_weight=6, score=-0.7140186915887851, total=   0.9s\n",
      "[CV] max_depth=5, min_child_weight=1 .................................\n",
      "[CV]  max_depth=5, min_child_weight=1, score=-0.761860465116279, total=   1.1s\n",
      "[CV] max_depth=5, min_child_weight=1 .................................\n",
      "[CV]  max_depth=5, min_child_weight=1, score=-0.8462255358807083, total=   1.1s\n",
      "[CV] max_depth=5, min_child_weight=1 .................................\n",
      "[CV]  max_depth=5, min_child_weight=1, score=-0.6619981325863679, total=   1.1s\n",
      "[CV] max_depth=5, min_child_weight=1 .................................\n",
      "[CV]  max_depth=5, min_child_weight=1, score=-0.7254901960784313, total=   1.2s\n",
      "[CV] max_depth=5, min_child_weight=1 .................................\n",
      "[CV]  max_depth=5, min_child_weight=1, score=-0.680373831775701, total=   1.3s\n",
      "[CV] max_depth=5, min_child_weight=3 .................................\n",
      "[CV]  max_depth=5, min_child_weight=3, score=-0.7906976744186046, total=   1.1s\n",
      "[CV] max_depth=5, min_child_weight=3 .................................\n",
      "[CV]  max_depth=5, min_child_weight=3, score=-0.8378378378378378, total=   1.0s\n",
      "[CV] max_depth=5, min_child_weight=3 .................................\n",
      "[CV]  max_depth=5, min_child_weight=3, score=-0.707749766573296, total=   1.0s\n",
      "[CV] max_depth=5, min_child_weight=3 .................................\n",
      "[CV]  max_depth=5, min_child_weight=3, score=-0.7357609710550888, total=   1.1s\n",
      "[CV] max_depth=5, min_child_weight=3 .................................\n",
      "[CV]  max_depth=5, min_child_weight=3, score=-0.7037383177570093, total=   1.0s\n",
      "[CV] max_depth=5, min_child_weight=6 .................................\n",
      "[CV]  max_depth=5, min_child_weight=6, score=-0.772093023255814, total=   1.0s\n",
      "[CV] max_depth=5, min_child_weight=6 .................................\n",
      "[CV]  max_depth=5, min_child_weight=6, score=-0.8452935694315005, total=   1.0s\n",
      "[CV] max_depth=5, min_child_weight=6 .................................\n",
      "[CV]  max_depth=5, min_child_weight=6, score=-0.6853408029878618, total=   1.0s\n",
      "[CV] max_depth=5, min_child_weight=6 .................................\n",
      "[CV]  max_depth=5, min_child_weight=6, score=-0.7357609710550888, total=   1.0s\n",
      "[CV] max_depth=5, min_child_weight=6 .................................\n",
      "[CV]  max_depth=5, min_child_weight=6, score=-0.6953271028037383, total=   1.0s\n",
      "[CV] max_depth=6, min_child_weight=1 .................................\n",
      "[CV]  max_depth=6, min_child_weight=1, score=-0.7748837209302326, total=   1.2s\n",
      "[CV] max_depth=6, min_child_weight=1 .................................\n",
      "[CV]  max_depth=6, min_child_weight=1, score=-0.8238583410997204, total=   1.2s\n",
      "[CV] max_depth=6, min_child_weight=1 .................................\n",
      "[CV]  max_depth=6, min_child_weight=1, score=-0.6918767507002801, total=   1.2s\n",
      "[CV] max_depth=6, min_child_weight=1 .................................\n",
      "[CV]  max_depth=6, min_child_weight=1, score=-0.7357609710550888, total=   1.2s\n",
      "[CV] max_depth=6, min_child_weight=1 .................................\n",
      "[CV]  max_depth=6, min_child_weight=1, score=-0.7018691588785047, total=   1.2s\n",
      "[CV] max_depth=6, min_child_weight=3 .................................\n",
      "[CV]  max_depth=6, min_child_weight=3, score=-0.7981395348837209, total=   1.2s\n",
      "[CV] max_depth=6, min_child_weight=3 .................................\n",
      "[CV]  max_depth=6, min_child_weight=3, score=-0.8918918918918919, total=   1.2s\n",
      "[CV] max_depth=6, min_child_weight=3 .................................\n",
      "[CV]  max_depth=6, min_child_weight=3, score=-0.7002801120448179, total=   1.2s\n",
      "[CV] max_depth=6, min_child_weight=3 .................................\n",
      "[CV]  max_depth=6, min_child_weight=3, score=-0.7478991596638656, total=   1.2s\n",
      "[CV] max_depth=6, min_child_weight=3 .................................\n",
      "[CV]  max_depth=6, min_child_weight=3, score=-0.694392523364486, total=   1.2s\n",
      "[CV] max_depth=6, min_child_weight=6 .................................\n",
      "[CV]  max_depth=6, min_child_weight=6, score=-0.7525581395348837, total=   1.1s\n",
      "[CV] max_depth=6, min_child_weight=6 .................................\n",
      "[CV]  max_depth=6, min_child_weight=6, score=-0.8732525629077353, total=   1.1s\n",
      "[CV] max_depth=6, min_child_weight=6 .................................\n",
      "[CV]  max_depth=6, min_child_weight=6, score=-0.7198879551820728, total=   1.1s\n",
      "[CV] max_depth=6, min_child_weight=6 .................................\n",
      "[CV]  max_depth=6, min_child_weight=6, score=-0.7357609710550888, total=   1.1s\n",
      "[CV] max_depth=6, min_child_weight=6 .................................\n",
      "[CV]  max_depth=6, min_child_weight=6, score=-0.6822429906542056, total=   1.1s\n",
      "[CV] max_depth=7, min_child_weight=1 .................................\n",
      "[CV]  max_depth=7, min_child_weight=1, score=-0.7906976744186046, total=   1.4s\n",
      "[CV] max_depth=7, min_child_weight=1 .................................\n",
      "[CV]  max_depth=7, min_child_weight=1, score=-0.8518173345759553, total=   1.4s\n",
      "[CV] max_depth=7, min_child_weight=1 .................................\n",
      "[CV]  max_depth=7, min_child_weight=1, score=-0.6862745098039216, total=   1.4s\n",
      "[CV] max_depth=7, min_child_weight=1 .................................\n",
      "[CV]  max_depth=7, min_child_weight=1, score=-0.7329598506069094, total=   1.4s\n",
      "[CV] max_depth=7, min_child_weight=1 .................................\n",
      "[CV]  max_depth=7, min_child_weight=1, score=-0.6747663551401869, total=   1.4s\n",
      "[CV] max_depth=7, min_child_weight=3 .................................\n",
      "[CV]  max_depth=7, min_child_weight=3, score=-0.7944186046511628, total=   1.3s\n",
      "[CV] max_depth=7, min_child_weight=3 .................................\n",
      "[CV]  max_depth=7, min_child_weight=3, score=-0.8685927306616962, total=   1.3s\n",
      "[CV] max_depth=7, min_child_weight=3 .................................\n",
      "[CV]  max_depth=7, min_child_weight=3, score=-0.7124183006535948, total=   1.3s\n",
      "[CV] max_depth=7, min_child_weight=3 .................................\n",
      "[CV]  max_depth=7, min_child_weight=3, score=-0.7264239028944911, total=   1.3s\n",
      "[CV] max_depth=7, min_child_weight=3 .................................\n",
      "[CV]  max_depth=7, min_child_weight=3, score=-0.6990654205607477, total=   1.3s\n",
      "[CV] max_depth=7, min_child_weight=6 .................................\n",
      "[CV]  max_depth=7, min_child_weight=6, score=-0.7804651162790698, total=   1.2s\n",
      "[CV] max_depth=7, min_child_weight=6 .................................\n",
      "[CV]  max_depth=7, min_child_weight=6, score=-0.902143522833178, total=   1.3s\n",
      "[CV] max_depth=7, min_child_weight=6 .................................\n"
     ]
    },
    {
     "name": "stdout",
     "output_type": "stream",
     "text": [
      "[CV]  max_depth=7, min_child_weight=6, score=-0.6872082166199813, total=   1.3s\n",
      "[CV] max_depth=7, min_child_weight=6 .................................\n",
      "[CV]  max_depth=7, min_child_weight=6, score=-0.7329598506069094, total=   1.3s\n",
      "[CV] max_depth=7, min_child_weight=6 .................................\n",
      "[CV]  max_depth=7, min_child_weight=6, score=-0.6915887850467289, total=   1.3s\n",
      "[CV] max_depth=8, min_child_weight=1 .................................\n",
      "[CV]  max_depth=8, min_child_weight=1, score=-0.8018604651162791, total=   1.6s\n",
      "[CV] max_depth=8, min_child_weight=1 .................................\n",
      "[CV]  max_depth=8, min_child_weight=1, score=-0.8881640260950606, total=   1.5s\n",
      "[CV] max_depth=8, min_child_weight=1 .................................\n",
      "[CV]  max_depth=8, min_child_weight=1, score=-0.6862745098039216, total=   1.5s\n",
      "[CV] max_depth=8, min_child_weight=1 .................................\n",
      "[CV]  max_depth=8, min_child_weight=1, score=-0.7376283846872083, total=   1.5s\n",
      "[CV] max_depth=8, min_child_weight=1 .................................\n",
      "[CV]  max_depth=8, min_child_weight=1, score=-0.6813084112149532, total=   1.6s\n",
      "[CV] max_depth=8, min_child_weight=3 .................................\n",
      "[CV]  max_depth=8, min_child_weight=3, score=-0.7906976744186046, total=   1.4s\n",
      "[CV] max_depth=8, min_child_weight=3 .................................\n",
      "[CV]  max_depth=8, min_child_weight=3, score=-0.8909599254426841, total=   1.5s\n",
      "[CV] max_depth=8, min_child_weight=3 .................................\n",
      "[CV]  max_depth=8, min_child_weight=3, score=-0.7180205415499533, total=   1.4s\n",
      "[CV] max_depth=8, min_child_weight=3 .................................\n",
      "[CV]  max_depth=8, min_child_weight=3, score=-0.7478991596638656, total=   1.4s\n",
      "[CV] max_depth=8, min_child_weight=3 .................................\n",
      "[CV]  max_depth=8, min_child_weight=3, score=-0.708411214953271, total=   1.5s\n",
      "[CV] max_depth=8, min_child_weight=6 .................................\n",
      "[CV]  max_depth=8, min_child_weight=6, score=-0.7934883720930233, total=   1.4s\n",
      "[CV] max_depth=8, min_child_weight=6 .................................\n",
      "[CV]  max_depth=8, min_child_weight=6, score=-0.8704566635601119, total=   1.4s\n",
      "[CV] max_depth=8, min_child_weight=6 .................................\n",
      "[CV]  max_depth=8, min_child_weight=6, score=-0.7236227824463118, total=   1.4s\n",
      "[CV] max_depth=8, min_child_weight=6 .................................\n",
      "[CV]  max_depth=8, min_child_weight=6, score=-0.7338935574229691, total=   1.4s\n",
      "[CV] max_depth=8, min_child_weight=6 .................................\n",
      "[CV]  max_depth=8, min_child_weight=6, score=-0.6990654205607477, total=   1.4s\n"
     ]
    },
    {
     "name": "stderr",
     "output_type": "stream",
     "text": [
      "[Parallel(n_jobs=1)]: Done  75 out of  75 | elapsed:  1.6min finished\n"
     ]
    },
    {
     "data": {
      "text/plain": [
       "GridSearchCV(cv=5, error_score='raise-deprecating',\n",
       "       estimator=XGBClassifier(base_score=0.5, booster='gbtree', colsample_bylevel=1,\n",
       "       colsample_bytree=0.8, gamma=0, learning_rate=0.1, max_delta_step=0,\n",
       "       max_depth=5, min_child_weight=1, missing=None, n_estimators=100,\n",
       "       n_jobs=-1, nthread=None, objective='multi:softmax', random_state=42,\n",
       "       reg_alpha=0, reg_lambda=1, scale_pos_weight=1, seed=0, silent=True,\n",
       "       subsample=0.8),\n",
       "       fit_params=None, iid='warn', n_jobs=None,\n",
       "       param_grid={'max_depth': [4, 5, 6, 7, 8], 'min_child_weight': [1, 3, 6]},\n",
       "       pre_dispatch='2*n_jobs', refit=True, return_train_score='warn',\n",
       "       scoring=make_scorer(my_loss, greater_is_better=False), verbose=3)"
      ]
     },
     "execution_count": 27,
     "metadata": {},
     "output_type": "execute_result"
    }
   ],
   "source": [
    "#调参xgboost\n",
    "from sklearn.metrics import fbeta_score, make_scorer\n",
    "from sklearn.model_selection import GridSearchCV \n",
    "score = make_scorer(my_loss, greater_is_better=False)\n",
    "cv_params = {\n",
    "#             'n_estimators': [50,60, 70,80,90,100, 110,120, 130],\n",
    "#             'learning_rate': [0.5,0.4,0.3,0.2,0.1,0.075,0.05,0.04,0.03],\n",
    "#             'subsample':[ 0.1 * i for i in range(6,9)],\n",
    "#             'colsample_bytree':[ 0.1 * i for i in range(6,9)],\n",
    "#             'gamma':[ 0.1 * i for i in range(0,5)],\n",
    "            'max_depth': list(range(4,9)), \n",
    "            'min_child_weight': list((1,3,6))\n",
    "}\n",
    "# cv_params = {'n_estimators': [100,150]}\n",
    "other_params = { 'max_depth': 5, 'min_child_weight': 1, 'seed': 0,'random_state':42,\n",
    "                'subsample': 0.8, 'colsample_bytree': 0.8, 'gamma': 0, 'reg_alpha': 0, 'reg_lambda': 1,'objective':'multi:softmax','n_jobs':-1}\n",
    "\n",
    "model = XGBClassifier(**other_params)\n",
    "optimized_GBM = GridSearchCV(estimator=model, param_grid=cv_params, scoring=score, cv=5, verbose=3)\n",
    "optimized_GBM.fit(X=X_train,y= y_train)"
   ]
  },
  {
   "cell_type": "code",
   "execution_count": 28,
   "metadata": {},
   "outputs": [
    {
     "name": "stdout",
     "output_type": "stream",
     "text": [
      "XGBClassifier(base_score=0.5, booster='gbtree', colsample_bylevel=1,\n",
      "       colsample_bytree=0.8, gamma=0, learning_rate=0.1, max_delta_step=0,\n",
      "       max_depth=5, min_child_weight=1, missing=None, n_estimators=100,\n",
      "       n_jobs=-1, nthread=None, objective='multi:softprob',\n",
      "       random_state=42, reg_alpha=0, reg_lambda=1, scale_pos_weight=1,\n",
      "       seed=0, silent=True, subsample=0.8)\n",
      "参数的最佳取值：{'max_depth': 5, 'min_child_weight': 1}\n",
      "最佳模型得分:-0.7352611940298508\n"
     ]
    }
   ],
   "source": [
    "# evalute_result = optimized_GBM.cv_results_ \n",
    "# print('每轮迭代运行结果:{0}'.format(evalute_result))\n",
    "print(optimized_GBM.best_estimator_)\n",
    "print('参数的最佳取值：{0}'.format(optimized_GBM.best_params_))\n",
    "print('最佳模型得分:{0}'.format(optimized_GBM.best_score_))"
   ]
  },
  {
   "cell_type": "code",
   "execution_count": null,
   "metadata": {
    "collapsed": true
   },
   "outputs": [],
   "source": []
  },
  {
   "cell_type": "code",
   "execution_count": 97,
   "metadata": {
    "scrolled": true
   },
   "outputs": [
    {
     "name": "stdout",
     "output_type": "stream",
     "text": [
      "[0]\tvalidation_0-merror:0.395076\tvalidation_0-my_metric:0.682197\n",
      "Multiple eval metrics have been passed: 'validation_0-my_metric' will be used for early stopping.\n",
      "\n",
      "Will train until validation_0-my_metric hasn't improved in 10 rounds.\n",
      "[1]\tvalidation_0-merror:0.396212\tvalidation_0-my_metric:0.690152\n",
      "[2]\tvalidation_0-merror:0.395833\tvalidation_0-my_metric:0.682576\n",
      "[3]\tvalidation_0-merror:0.39697\tvalidation_0-my_metric:0.694318\n",
      "[4]\tvalidation_0-merror:0.396591\tvalidation_0-my_metric:0.689394\n",
      "[5]\tvalidation_0-merror:0.396591\tvalidation_0-my_metric:0.695455\n",
      "[6]\tvalidation_0-merror:0.395833\tvalidation_0-my_metric:0.682197\n",
      "[7]\tvalidation_0-merror:0.395076\tvalidation_0-my_metric:0.688258\n",
      "[8]\tvalidation_0-merror:0.395076\tvalidation_0-my_metric:0.681061\n",
      "[9]\tvalidation_0-merror:0.395833\tvalidation_0-my_metric:0.6875\n",
      "[10]\tvalidation_0-merror:0.396212\tvalidation_0-my_metric:0.685985\n",
      "[11]\tvalidation_0-merror:0.396212\tvalidation_0-my_metric:0.684848\n",
      "[12]\tvalidation_0-merror:0.395833\tvalidation_0-my_metric:0.685227\n",
      "[13]\tvalidation_0-merror:0.393939\tvalidation_0-my_metric:0.674621\n",
      "[14]\tvalidation_0-merror:0.395076\tvalidation_0-my_metric:0.67803\n",
      "[15]\tvalidation_0-merror:0.395076\tvalidation_0-my_metric:0.674621\n",
      "[16]\tvalidation_0-merror:0.395076\tvalidation_0-my_metric:0.675758\n",
      "[17]\tvalidation_0-merror:0.393939\tvalidation_0-my_metric:0.672348\n",
      "[18]\tvalidation_0-merror:0.393939\tvalidation_0-my_metric:0.672348\n",
      "[19]\tvalidation_0-merror:0.394318\tvalidation_0-my_metric:0.673864\n",
      "[20]\tvalidation_0-merror:0.393939\tvalidation_0-my_metric:0.677652\n",
      "[21]\tvalidation_0-merror:0.394318\tvalidation_0-my_metric:0.680303\n",
      "[22]\tvalidation_0-merror:0.395455\tvalidation_0-my_metric:0.680303\n",
      "[23]\tvalidation_0-merror:0.394697\tvalidation_0-my_metric:0.678409\n",
      "[24]\tvalidation_0-merror:0.395076\tvalidation_0-my_metric:0.678788\n",
      "[25]\tvalidation_0-merror:0.394697\tvalidation_0-my_metric:0.678409\n",
      "[26]\tvalidation_0-merror:0.394318\tvalidation_0-my_metric:0.674621\n",
      "[27]\tvalidation_0-merror:0.393939\tvalidation_0-my_metric:0.674242\n",
      "Stopping. Best iteration:\n",
      "[17]\tvalidation_0-merror:0.393939\tvalidation_0-my_metric:0.672348\n",
      "\n"
     ]
    }
   ],
   "source": [
    "# 完整可调\n",
    "model=XGBClassifier(objective='multi:softmax')\n",
    "model.fit(X_train,y_train,early_stopping_rounds=10,eval_metric=my_metric,eval_set=[(X_test,y_test)],verbose=True)\n",
    "y_pred=model.predict(X_test)"
   ]
  },
  {
   "cell_type": "code",
   "execution_count": 98,
   "metadata": {},
   "outputs": [
    {
     "data": {
      "text/plain": [
       "0.9026515151515152"
      ]
     },
     "execution_count": 98,
     "metadata": {},
     "output_type": "execute_result"
    }
   ],
   "source": [
    "np.mean((y_test-y_pred)**2)"
   ]
  },
  {
   "cell_type": "code",
   "execution_count": 107,
   "metadata": {},
   "outputs": [
    {
     "data": {
      "image/png": "[encoded data removed]",
      "text/plain": [
       "<matplotlib.figure.Figure at 0x23763f0d048>"
      ]
     },
     "metadata": {},
     "output_type": "display_data"
    },
    {
     "data": {
      "text/plain": [
       "<matplotlib.figure.Figure at 0x23762559d68>"
      ]
     },
     "metadata": {},
     "output_type": "display_data"
    }
   ],
   "source": [
    "from xgboost import plot_importance\n",
    "from matplotlib import pyplot as plt\n",
    "plot_importance(model)\n",
    "plt.figure(figsize=(10,20))\n",
    "plt.show()"
   ]
  },
  {
   "cell_type": "code",
   "execution_count": null,
   "metadata": {
    "collapsed": true
   },
   "outputs": [],
   "source": []
  }
 ],
 "metadata": {
  "kernelspec": {
   "display_name": "Python 3",
   "language": "python",
   "name": "python3"
  },
  "language_info": {
   "codemirror_mode": {
    "name": "ipython",
    "version": 3
   },
   "file_extension": ".py",
   "mimetype": "text/x-python",
   "name": "python",
   "nbconvert_exporter": "python",
   "pygments_lexer": "ipython3",
   "version": "3.6.1"
  }
 },
 "nbformat": 4,
 "nbformat_minor": 2
}
