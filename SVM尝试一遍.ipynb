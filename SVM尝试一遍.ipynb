{
 "cells": [
  {
   "cell_type": "code",
   "execution_count": 1,
   "metadata": {
    "collapsed": true
   },
   "outputs": [],
   "source": [
    "import numpy as np\n",
    "import pandas as pd\n",
    "train_df=pd.read_csv('./happiness_train_abbr.csv',index_col=0)\n",
    "test_df=pd.read_csv('./happiness_test_abbr.csv',index_col=0)\n",
    "import  seaborn as sns\n",
    "%matplotlib inline\n"
   ]
  },
  {
   "cell_type": "code",
   "execution_count": 2,
   "metadata": {
    "collapsed": true
   },
   "outputs": [],
   "source": [
    "\n",
    "y_train=train_df.happiness\n",
    "#合并测试和训练集，\n",
    "train_df=train_df.drop(['happiness'],axis=1)\n",
    "all_data=pd.concat([train_df,test_df])\n",
    "age=2018-all_data.birth"
   ]
  },
  {
   "cell_type": "code",
   "execution_count": 3,
   "metadata": {
    "collapsed": true
   },
   "outputs": [],
   "source": [
    "# test_df"
   ]
  },
  {
   "cell_type": "code",
   "execution_count": null,
   "metadata": {
    "collapsed": true
   },
   "outputs": [],
   "source": []
  },
  {
   "cell_type": "code",
   "execution_count": 4,
   "metadata": {
    "collapsed": true,
    "scrolled": true
   },
   "outputs": [],
   "source": [
    "all_data=all_data.drop(['survey_time','birth','work_yr'],axis=1)"
   ]
  },
  {
   "cell_type": "code",
   "execution_count": 5,
   "metadata": {
    "collapsed": true
   },
   "outputs": [],
   "source": [
    "all_data['age']=age"
   ]
  },
  {
   "cell_type": "code",
   "execution_count": 6,
   "metadata": {},
   "outputs": [
    {
     "name": "stderr",
     "output_type": "stream",
     "text": [
      "D:\\ProgramData\\Anaconda3\\lib\\site-packages\\sklearn\\utils\\deprecation.py:58: DeprecationWarning: Class Imputer is deprecated; Imputer was deprecated in version 0.20 and will be removed in 0.22. Import impute.SimpleImputer from sklearn instead.\n",
      "  warnings.warn(msg, category=DeprecationWarning)\n"
     ]
    }
   ],
   "source": [
    "#填充缺失值\n",
    "from sklearn.preprocessing import Imputer\n",
    "im = Imputer(strategy=\"median\",axis=1)#均值填充\n",
    "filled_nan_data = im.fit_transform(all_data)\n",
    "filled_nan_data=pd.DataFrame(filled_nan_data,index=range(1,len(all_data)+1))"
   ]
  },
  {
   "cell_type": "code",
   "execution_count": 7,
   "metadata": {
    "collapsed": true
   },
   "outputs": [],
   "source": [
    "filled_nan_data.columns=all_data.columns\n",
    "# filled_nan_data.reindex(index=[range(len(all_data))])\n",
    "# filled_nan_data"
   ]
  },
  {
   "cell_type": "code",
   "execution_count": 8,
   "metadata": {
    "collapsed": true
   },
   "outputs": [],
   "source": [
    "# all_data"
   ]
  },
  {
   "cell_type": "code",
   "execution_count": 9,
   "metadata": {
    "collapsed": true,
    "scrolled": true
   },
   "outputs": [],
   "source": [
    "X_train=filled_nan_data.loc[train_df.index]\n",
    "X_train,y_train\n",
    "X_test=filled_nan_data.loc[test_df.index]"
   ]
  },
  {
   "cell_type": "code",
   "execution_count": 10,
   "metadata": {
    "collapsed": true,
    "scrolled": true
   },
   "outputs": [],
   "source": [
    "# X_test"
   ]
  },
  {
   "cell_type": "code",
   "execution_count": 11,
   "metadata": {
    "scrolled": true
   },
   "outputs": [
    {
     "data": {
      "text/plain": [
       "SVC(C=1.0, cache_size=200, class_weight=None, coef0=0.0,\n",
       "  decision_function_shape='ovr', degree=3, gamma='scale', kernel='rbf',\n",
       "  max_iter=-1, probability=False, random_state=None, shrinking=True,\n",
       "  tol=0.001, verbose=False)"
      ]
     },
     "execution_count": 11,
     "metadata": {},
     "output_type": "execute_result"
    }
   ],
   "source": [
    "from sklearn import svm\n",
    "clf = svm.SVC(gamma='scale')\n",
    "clf.fit(X_train, y_train)"
   ]
  },
  {
   "cell_type": "code",
   "execution_count": 12,
   "metadata": {
    "collapsed": true
   },
   "outputs": [],
   "source": [
    "y_pred=clf.predict(X_test)"
   ]
  },
  {
   "cell_type": "code",
   "execution_count": 20,
   "metadata": {},
   "outputs": [
    {
     "name": "stdout",
     "output_type": "stream",
     "text": [
      "[4 4 4 ..., 4 4 4]\n"
     ]
    },
    {
     "data": {
      "text/plain": [
       "4    2935\n",
       "5      20\n",
       "3      13\n",
       "dtype: int64"
      ]
     },
     "execution_count": 20,
     "metadata": {},
     "output_type": "execute_result"
    }
   ],
   "source": [
    "print(y_pred)\n",
    "# result_file='C:\\\\Users\\\\lenovo\\\\Desktop\\\\happiness\\\\result.csv'\n",
    "# submit_data = pd.read_csv(result_file)\n",
    "# submit_data[p] = y_pred\n",
    "# pd.DataFrame(y_pred,index=X_test.index).to_csv(result_file)\n",
    "pd_y=pd.Series(y_pred)\n",
    "pd_y.value_counts()\n"
   ]
  },
  {
   "cell_type": "code",
   "execution_count": 22,
   "metadata": {
    "collapsed": true
   },
   "outputs": [],
   "source": [
    "from sklearn.model_selection import GridSearchCV\n",
    "from sklearn.svm import SVC\n",
    "from sklearn.model_selection import train_test_split\n",
    "\n",
    "X=X_train\n",
    "y=y_train"
   ]
  },
  {
   "cell_type": "code",
   "execution_count": 23,
   "metadata": {
    "collapsed": true
   },
   "outputs": [],
   "source": [
    "#首先自定义得分函数\n",
    "def my_loss(y_true,y_pred):\n",
    "    return np.abs(np.mean((y_true-y_pred)**2))\n",
    "from sklearn.metrics import fbeta_score, make_scorer\n",
    "from sklearn.model_selection import GridSearchCV \n",
    "score = make_scorer(my_loss, greater_is_better=False)"
   ]
  },
  {
   "cell_type": "code",
   "execution_count": 25,
   "metadata": {
    "scrolled": true
   },
   "outputs": [
    {
     "name": "stdout",
     "output_type": "stream",
     "text": [
      "Parameters:{'gamma': [0.001, 0.01, 0.1, 1], 'C': [0.001, 0.01, 0.1, 1]}\n",
      "Fitting 5 folds for each of 16 candidates, totalling 80 fits\n",
      "[CV] C=0.001, gamma=0.001 ............................................\n"
     ]
    },
    {
     "name": "stderr",
     "output_type": "stream",
     "text": [
      "[Parallel(n_jobs=1)]: Using backend SequentialBackend with 1 concurrent workers.\n"
     ]
    },
    {
     "name": "stdout",
     "output_type": "stream",
     "text": [
      "[CV] ............................. C=0.001, gamma=0.001, total=   1.8s\n",
      "[CV] C=0.001, gamma=0.001 ............................................\n"
     ]
    },
    {
     "name": "stderr",
     "output_type": "stream",
     "text": [
      "[Parallel(n_jobs=1)]: Done   1 out of   1 | elapsed:    3.1s remaining:    0.0s\n"
     ]
    },
    {
     "name": "stdout",
     "output_type": "stream",
     "text": [
      "[CV] ............................. C=0.001, gamma=0.001, total=   1.8s\n",
      "[CV] C=0.001, gamma=0.001 ............................................\n",
      "[CV] ............................. C=0.001, gamma=0.001, total=   1.8s\n",
      "[CV] C=0.001, gamma=0.001 ............................................\n",
      "[CV] ............................. C=0.001, gamma=0.001, total=   1.8s\n",
      "[CV] C=0.001, gamma=0.001 ............................................\n",
      "[CV] ............................. C=0.001, gamma=0.001, total=   1.8s\n",
      "[CV] C=0.001, gamma=0.01 .............................................\n",
      "[CV] .............................. C=0.001, gamma=0.01, total=   2.0s\n",
      "[CV] C=0.001, gamma=0.01 .............................................\n",
      "[CV] .............................. C=0.001, gamma=0.01, total=   2.0s\n",
      "[CV] C=0.001, gamma=0.01 .............................................\n",
      "[CV] .............................. C=0.001, gamma=0.01, total=   2.0s\n",
      "[CV] C=0.001, gamma=0.01 .............................................\n",
      "[CV] .............................. C=0.001, gamma=0.01, total=   2.0s\n",
      "[CV] C=0.001, gamma=0.01 .............................................\n",
      "[CV] .............................. C=0.001, gamma=0.01, total=   2.0s\n",
      "[CV] C=0.001, gamma=0.1 ..............................................\n",
      "[CV] ............................... C=0.001, gamma=0.1, total=   2.4s\n",
      "[CV] C=0.001, gamma=0.1 ..............................................\n",
      "[CV] ............................... C=0.001, gamma=0.1, total=   2.3s\n",
      "[CV] C=0.001, gamma=0.1 ..............................................\n",
      "[CV] ............................... C=0.001, gamma=0.1, total=   2.3s\n",
      "[CV] C=0.001, gamma=0.1 ..............................................\n",
      "[CV] ............................... C=0.001, gamma=0.1, total=   2.3s\n",
      "[CV] C=0.001, gamma=0.1 ..............................................\n",
      "[CV] ............................... C=0.001, gamma=0.1, total=   2.3s\n",
      "[CV] C=0.001, gamma=1 ................................................\n",
      "[CV] ................................. C=0.001, gamma=1, total=   2.4s\n",
      "[CV] C=0.001, gamma=1 ................................................\n",
      "[CV] ................................. C=0.001, gamma=1, total=   2.8s\n",
      "[CV] C=0.001, gamma=1 ................................................\n",
      "[CV] ................................. C=0.001, gamma=1, total=   2.5s\n",
      "[CV] C=0.001, gamma=1 ................................................\n",
      "[CV] ................................. C=0.001, gamma=1, total=   2.4s\n",
      "[CV] C=0.001, gamma=1 ................................................\n",
      "[CV] ................................. C=0.001, gamma=1, total=   2.4s\n",
      "[CV] C=0.01, gamma=0.001 .............................................\n",
      "[CV] .............................. C=0.01, gamma=0.001, total=   4.2s\n",
      "[CV] C=0.01, gamma=0.001 .............................................\n",
      "[CV] .............................. C=0.01, gamma=0.001, total=   4.5s\n",
      "[CV] C=0.01, gamma=0.001 .............................................\n",
      "[CV] .............................. C=0.01, gamma=0.001, total=   4.5s\n",
      "[CV] C=0.01, gamma=0.001 .............................................\n",
      "[CV] .............................. C=0.01, gamma=0.001, total=   4.7s\n",
      "[CV] C=0.01, gamma=0.001 .............................................\n",
      "[CV] .............................. C=0.01, gamma=0.001, total=   4.2s\n",
      "[CV] C=0.01, gamma=0.01 ..............................................\n",
      "[CV] ............................... C=0.01, gamma=0.01, total=   5.0s\n",
      "[CV] C=0.01, gamma=0.01 ..............................................\n",
      "[CV] ............................... C=0.01, gamma=0.01, total=   4.3s\n",
      "[CV] C=0.01, gamma=0.01 ..............................................\n",
      "[CV] ............................... C=0.01, gamma=0.01, total=   4.7s\n",
      "[CV] C=0.01, gamma=0.01 ..............................................\n",
      "[CV] ............................... C=0.01, gamma=0.01, total=   4.5s\n",
      "[CV] C=0.01, gamma=0.01 ..............................................\n",
      "[CV] ............................... C=0.01, gamma=0.01, total=   4.5s\n",
      "[CV] C=0.01, gamma=0.1 ...............................................\n",
      "[CV] ................................ C=0.01, gamma=0.1, total=   4.3s\n",
      "[CV] C=0.01, gamma=0.1 ...............................................\n",
      "[CV] ................................ C=0.01, gamma=0.1, total=   4.3s\n",
      "[CV] C=0.01, gamma=0.1 ...............................................\n",
      "[CV] ................................ C=0.01, gamma=0.1, total=   4.2s\n",
      "[CV] C=0.01, gamma=0.1 ...............................................\n",
      "[CV] ................................ C=0.01, gamma=0.1, total=   4.9s\n",
      "[CV] C=0.01, gamma=0.1 ...............................................\n",
      "[CV] ................................ C=0.01, gamma=0.1, total=   4.8s\n",
      "[CV] C=0.01, gamma=1 .................................................\n",
      "[CV] .................................. C=0.01, gamma=1, total=   4.2s\n",
      "[CV] C=0.01, gamma=1 .................................................\n",
      "[CV] .................................. C=0.01, gamma=1, total=   4.2s\n",
      "[CV] C=0.01, gamma=1 .................................................\n",
      "[CV] .................................. C=0.01, gamma=1, total=   4.3s\n",
      "[CV] C=0.01, gamma=1 .................................................\n",
      "[CV] .................................. C=0.01, gamma=1, total=   4.3s\n",
      "[CV] C=0.01, gamma=1 .................................................\n",
      "[CV] .................................. C=0.01, gamma=1, total=   4.3s\n",
      "[CV] C=0.1, gamma=0.001 ..............................................\n",
      "[CV] ............................... C=0.1, gamma=0.001, total=   5.1s\n",
      "[CV] C=0.1, gamma=0.001 ..............................................\n",
      "[CV] ............................... C=0.1, gamma=0.001, total=   5.2s\n",
      "[CV] C=0.1, gamma=0.001 ..............................................\n",
      "[CV] ............................... C=0.1, gamma=0.001, total=   5.0s\n",
      "[CV] C=0.1, gamma=0.001 ..............................................\n",
      "[CV] ............................... C=0.1, gamma=0.001, total=   4.9s\n",
      "[CV] C=0.1, gamma=0.001 ..............................................\n",
      "[CV] ............................... C=0.1, gamma=0.001, total=   5.3s\n",
      "[CV] C=0.1, gamma=0.01 ...............................................\n",
      "[CV] ................................ C=0.1, gamma=0.01, total=   5.1s\n",
      "[CV] C=0.1, gamma=0.01 ...............................................\n",
      "[CV] ................................ C=0.1, gamma=0.01, total=   5.1s\n",
      "[CV] C=0.1, gamma=0.01 ...............................................\n",
      "[CV] ................................ C=0.1, gamma=0.01, total=   5.6s\n",
      "[CV] C=0.1, gamma=0.01 ...............................................\n",
      "[CV] ................................ C=0.1, gamma=0.01, total=   5.2s\n",
      "[CV] C=0.1, gamma=0.01 ...............................................\n",
      "[CV] ................................ C=0.1, gamma=0.01, total=   5.1s\n",
      "[CV] C=0.1, gamma=0.1 ................................................\n",
      "[CV] ................................. C=0.1, gamma=0.1, total=   5.0s\n",
      "[CV] C=0.1, gamma=0.1 ................................................\n",
      "[CV] ................................. C=0.1, gamma=0.1, total=   5.0s\n",
      "[CV] C=0.1, gamma=0.1 ................................................\n",
      "[CV] ................................. C=0.1, gamma=0.1, total=   5.0s\n",
      "[CV] C=0.1, gamma=0.1 ................................................\n",
      "[CV] ................................. C=0.1, gamma=0.1, total=   5.2s\n",
      "[CV] C=0.1, gamma=0.1 ................................................\n",
      "[CV] ................................. C=0.1, gamma=0.1, total=   5.4s\n",
      "[CV] C=0.1, gamma=1 ..................................................\n",
      "[CV] ................................... C=0.1, gamma=1, total=   5.5s\n",
      "[CV] C=0.1, gamma=1 ..................................................\n",
      "[CV] ................................... C=0.1, gamma=1, total=   6.0s\n",
      "[CV] C=0.1, gamma=1 ..................................................\n",
      "[CV] ................................... C=0.1, gamma=1, total=   5.0s\n",
      "[CV] C=0.1, gamma=1 ..................................................\n",
      "[CV] ................................... C=0.1, gamma=1, total=   5.0s\n",
      "[CV] C=0.1, gamma=1 ..................................................\n"
     ]
    },
    {
     "name": "stdout",
     "output_type": "stream",
     "text": [
      "[CV] ................................... C=0.1, gamma=1, total=   5.0s\n",
      "[CV] C=1, gamma=0.001 ................................................\n",
      "[CV] ................................. C=1, gamma=0.001, total=   5.5s\n",
      "[CV] C=1, gamma=0.001 ................................................\n",
      "[CV] ................................. C=1, gamma=0.001, total=   5.8s\n",
      "[CV] C=1, gamma=0.001 ................................................\n",
      "[CV] ................................. C=1, gamma=0.001, total=   6.2s\n",
      "[CV] C=1, gamma=0.001 ................................................\n",
      "[CV] ................................. C=1, gamma=0.001, total=   5.9s\n",
      "[CV] C=1, gamma=0.001 ................................................\n",
      "[CV] ................................. C=1, gamma=0.001, total=   5.8s\n",
      "[CV] C=1, gamma=0.01 .................................................\n",
      "[CV] .................................. C=1, gamma=0.01, total=   6.0s\n",
      "[CV] C=1, gamma=0.01 .................................................\n",
      "[CV] .................................. C=1, gamma=0.01, total=   6.4s\n",
      "[CV] C=1, gamma=0.01 .................................................\n",
      "[CV] .................................. C=1, gamma=0.01, total=   5.9s\n",
      "[CV] C=1, gamma=0.01 .................................................\n",
      "[CV] .................................. C=1, gamma=0.01, total=   6.5s\n",
      "[CV] C=1, gamma=0.01 .................................................\n",
      "[CV] .................................. C=1, gamma=0.01, total=   6.8s\n",
      "[CV] C=1, gamma=0.1 ..................................................\n",
      "[CV] ................................... C=1, gamma=0.1, total=   5.9s\n",
      "[CV] C=1, gamma=0.1 ..................................................\n",
      "[CV] ................................... C=1, gamma=0.1, total=   5.8s\n",
      "[CV] C=1, gamma=0.1 ..................................................\n",
      "[CV] ................................... C=1, gamma=0.1, total=   5.9s\n",
      "[CV] C=1, gamma=0.1 ..................................................\n",
      "[CV] ................................... C=1, gamma=0.1, total=   5.9s\n",
      "[CV] C=1, gamma=0.1 ..................................................\n",
      "[CV] ................................... C=1, gamma=0.1, total=   5.8s\n",
      "[CV] C=1, gamma=1 ....................................................\n",
      "[CV] ..................................... C=1, gamma=1, total=   5.8s\n",
      "[CV] C=1, gamma=1 ....................................................\n",
      "[CV] ..................................... C=1, gamma=1, total=   5.8s\n",
      "[CV] C=1, gamma=1 ....................................................\n",
      "[CV] ..................................... C=1, gamma=1, total=   5.8s\n",
      "[CV] C=1, gamma=1 ....................................................\n",
      "[CV] ..................................... C=1, gamma=1, total=   5.8s\n",
      "[CV] C=1, gamma=1 ....................................................\n",
      "[CV] ..................................... C=1, gamma=1, total=   5.8s\n"
     ]
    },
    {
     "name": "stderr",
     "output_type": "stream",
     "text": [
      "[Parallel(n_jobs=1)]: Done  80 out of  80 | elapsed:  8.5min finished\n"
     ]
    },
    {
     "name": "stdout",
     "output_type": "stream",
     "text": [
      "Test set score:-1.13\n",
      "Best parameters:{'C': 0.001, 'gamma': 0.001}\n",
      "Best score on train set:-0.83\n"
     ]
    }
   ],
   "source": [
    "# 把要调整的参数以及其候选值 列出来；\n",
    "param_grid = {\"gamma\":[0.001,0.01,0.1,1],\n",
    "             \"C\":[0.001,0.01,0.1,1]}\n",
    "# param_grid = {\"gamma\":[0.1],\n",
    "#              \"C\":[0.001]}\n",
    "print(\"Parameters:{}\".format(param_grid))\n",
    "\n",
    "grid_search = GridSearchCV(estimator=SVC(),verbose=2,param_grid=param_grid,scoring=score,cv=5) #实例化一个GridSearchCV类\n",
    "X_train,X_test,y_train,y_test = train_test_split(X,y,random_state=10)\n",
    "grid_search.fit(X_train,y_train) #训练，找到最优的参数，同时使用最优的参数实例化一个新的SVC estimator。\n",
    "print(\"Test set score:{:.2f}\".format(grid_search.score(X_test,y_test)))\n",
    "print(\"Best parameters:{}\".format(grid_search.best_params_))\n",
    "print(\"Best score on train set:{:.2f}\".format(grid_search.best_score_))"
   ]
  },
  {
   "cell_type": "code",
   "execution_count": null,
   "metadata": {},
   "outputs": [],
   "source": [
    "y_pred=grid_search.best_estimator_.predict(X_test)\n",
    "pd.DataFrame(y_pred,index=X_test.index).to_csv('2'+result_file)"
   ]
  },
  {
   "cell_type": "code",
   "execution_count": null,
   "metadata": {
    "collapsed": true
   },
   "outputs": [],
   "source": []
  }
 ],
 "metadata": {
  "kernelspec": {
   "display_name": "Python 3",
   "language": "python",
   "name": "python3"
  },
  "language_info": {
   "codemirror_mode": {
    "name": "ipython",
    "version": 3
   },
   "file_extension": ".py",
   "mimetype": "text/x-python",
   "name": "python",
   "nbconvert_exporter": "python",
   "pygments_lexer": "ipython3",
   "version": "3.6.1"
  }
 },
 "nbformat": 4,
 "nbformat_minor": 2
}
