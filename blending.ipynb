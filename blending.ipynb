{
 "cells": [
  {
   "cell_type": "code",
   "execution_count": null,
   "metadata": {
    "collapsed": true
   },
   "outputs": [],
   "source": []
  },
  {
   "cell_type": "code",
   "execution_count": null,
   "metadata": {
    "collapsed": true
   },
   "outputs": [],
   "source": [
    "from sklearn import datasets\n",
    "from sklearn.ensemble import RandomForestClassifier, ExtraTreesClassifier, GradientBoostingClassifier\n",
    "from sklearn.model_selection import train_test_split\n",
    "from sklearn.cross_validation import StratifiedKFold\n",
    "import numpy as np\n",
    "from sklearn.metrics import roc_auc_score\n",
    "from sklearn.datasets.samples_generator import make_blobs\n",
    "import matplotlib.pyplot as plt\n",
    "\n",
    "def data_show(X,y):\n",
    "    plt.scatter(X[:,0],X[:,1],c=y)\n",
    "    plt.show()\n",
    "\n",
    "\n",
    "def blend(X,X_predict,y,y_predict):\n",
    "    '''5折'''\n",
    "    # n_flods = 5\n",
    "    # skf = list(StratifiedKFold(y, n_folds=n_flods))\n",
    "    '''切分训练数据集为d1,d2两部分'''\n",
    "    X_d1, X_d2, y_d1, y_d2 = train_test_split(X, y, test_size=0.5, random_state=2017)\n",
    "\n",
    "    dataset_d1 = np.zeros((X_d2.shape[0],len(clfs)))\n",
    "    dataset_d2 = np.zeros((X_predict.shape[0],len(clfs)))\n",
    "\n",
    "    for j,clf in enumerate(clfs):\n",
    "        '''依次训练各个单模型'''\n",
    "        # print(j, clf)\n",
    "        '''使用第1个部分作为预测，第2部分来训练模型，获得其预测的输出作为第2部分的新特征。'''\n",
    "        # X_train, y_train, X_test, y_test = X[train], y[train], X[test], y[test]\n",
    "        clf.fit(X_d1,y_d1)\n",
    "        y_submission = clf.predict_proba(X_d2)[:, 1]\n",
    "        dataset_d1[:,j] = y_submission\n",
    "        '''对于测试集，直接用这k个模型的预测值作为新的特征。'''\n",
    "        dataset_d2[:, j] = clf.predict_proba(X_predict)[:, 1]\n",
    "        print(\"val auc Score: %f\" % roc_auc_score(y_predict, dataset_d2[:, j]))\n",
    "\n",
    "    '''使用模型融合'''\n",
    "    clf = GradientBoostingClassifier(learning_rate=0.2,subsample=0.5,max_depth=6,n_estimators=30)\n",
    "    clf.fit(dataset_d1,y_d2)\n",
    "    y_submission = clf.predict_proba(dataset_d2)[:,1]\n",
    "    print(\"Linear stretch of predictions to [0,1]\")\n",
    "    y_submission = (y_submission - y_submission.min()) / (y_submission.max() - y_submission.min())\n",
    "    print(\"blend result\")\n",
    "    print(\"val auc Score: %f\" % (roc_auc_score(y_predict, y_submission)))\n",
    "\n",
    "\n",
    "if __name__ == \"__main__\":\n",
    "    data, target = make_blobs(n_samples=50000, centers=2, random_state=0, cluster_std=0.60)\n",
    "    # data_show(data,target)#查看数据分布\n",
    "    '''模型融合中使用到的各个单模型'''\n",
    "    clfs = [RandomForestClassifier(n_estimators=5, n_jobs=-1, criterion='gini'),\n",
    "            RandomForestClassifier(n_estimators=5, n_jobs=-1, criterion='entropy'),\n",
    "            ExtraTreesClassifier(n_estimators=5, n_jobs=-1, criterion='gini'),\n",
    "            ExtraTreesClassifier(n_estimators=5, n_jobs=-1, criterion='entropy'),\n",
    "            GradientBoostingClassifier(learning_rate=0.05, subsample=0.5, max_depth=6, n_estimators=5)]\n",
    "\n",
    "    X,X_predict,y,y_predict = train_test_split(data,target,test_size=0.33,random_state=2017)\n",
    "    blend(X,X_predict,y,y_predict)"
   ]
  }
 ],
 "metadata": {
  "kernelspec": {
   "display_name": "Python 3",
   "language": "python",
   "name": "python3"
  },
  "language_info": {
   "codemirror_mode": {
    "name": "ipython",
    "version": 3
   },
   "file_extension": ".py",
   "mimetype": "text/x-python",
   "name": "python",
   "nbconvert_exporter": "python",
   "pygments_lexer": "ipython3",
   "version": "3.6.1"
  }
 },
 "nbformat": 4,
 "nbformat_minor": 2
}
