{
 "cells": [
  {
   "cell_type": "markdown",
   "metadata": {},
   "source": [
    " #  corr相关系数筛选特征"
   ]
  },
  {
   "cell_type": "code",
   "execution_count": 2,
   "metadata": {
    "collapsed": true
   },
   "outputs": [],
   "source": [
    "import pandas as pd\n",
    "train_df=pd.read_csv('./happiness_train_complete.csv',index_col=0,encoding='gb2312')\n",
    "test_df=pd.read_csv('./happiness_test_complete.csv',index_col=0,encoding='gb2312')\n",
    "import  seaborn as sns#绘图库\n",
    "from sklearn.metrics import fbeta_score, make_scorer\n",
    "from sklearn.model_selection import GridSearchCV \n",
    "#填充缺失值\n",
    "from sklearn.preprocessing import Imputer\n",
    "from sklearn.metrics import fbeta_score, make_scorer\n",
    "from xgboost.sklearn import XGBRegressor\n",
    "import numpy as np\n",
    "from sklearn.model_selection import train_test_split\n",
    "from sklearn import preprocessing"
   ]
  },
  {
   "cell_type": "code",
   "execution_count": 3,
   "metadata": {},
   "outputs": [
    {
     "name": "stderr",
     "output_type": "stream",
     "text": [
      "D:\\ProgramData\\Anaconda3\\lib\\site-packages\\ipykernel_launcher.py:2: SettingWithCopyWarning: \n",
      "A value is trying to be set on a copy of a slice from a DataFrame\n",
      "\n",
      "See the caveats in the documentation: http://pandas.pydata.org/pandas-docs/stable/indexing.html#indexing-view-versus-copy\n",
      "  \n"
     ]
    },
    {
     "data": {
      "text/plain": [
       "(8000,)"
      ]
     },
     "execution_count": 3,
     "metadata": {},
     "output_type": "execute_result"
    }
   ],
   "source": [
    "y=train_df.happiness\n",
    "y[y<0]=0.0001\n",
    "y.shape"
   ]
  },
  {
   "cell_type": "code",
   "execution_count": 4,
   "metadata": {
    "collapsed": true
   },
   "outputs": [],
   "source": [
    "train_df.drop(['happiness'],axis=1,inplace=True)\n",
    "all_data=pd.concat([train_df,test_df])#拼接两个数据集，便于统一操作"
   ]
  },
  {
   "cell_type": "code",
   "execution_count": 5,
   "metadata": {
    "collapsed": true
   },
   "outputs": [],
   "source": [
    "cate_columns=[\n",
    "             'province','city','county','gender','nationality','edu','edu_status'\n",
    "             ,'political','health','hukou','hukou_loc','work_exper'\n",
    "             ,'work_status','family_m','son','daughter'\n",
    "              ,'minor_child','marital','s_edu','s_political','s_hukou','s_work_exper'\n",
    "             ,'f_edu','f_work_14','m_edu','m_political','m_work_14'\n",
    "            ]\n",
    "del_columns=['survey_time','edu_other','edu_yr','join_party','property_other',\n",
    "             'work_yr','work_type','work_manage','invest_other','s_work_type'\n",
    "             ,'f_birth','m_birth','inc_exp','marital_1st','marital_now','s_work_status']\n",
    "num_columns=[cat for cat in all_data if cat not in cate_columns and cat not in del_columns]\n"
   ]
  },
  {
   "cell_type": "code",
   "execution_count": 6,
   "metadata": {
    "collapsed": true
   },
   "outputs": [],
   "source": [
    "all_data_dummies=all_data.drop(del_columns,axis=1)#删除感觉没用的列\n",
    "\n",
    "all_data_dummies = pd.get_dummies(data=all_data_dummies,columns=cate_columns)#对部分特征进行one hot编码"
   ]
  },
  {
   "cell_type": "code",
   "execution_count": 7,
   "metadata": {
    "collapsed": true
   },
   "outputs": [],
   "source": [
    "#归一化\n",
    "s = (all_data_dummies[num_columns] - all_data_dummies[num_columns].min())/(all_data_dummies[num_columns].max() - all_data_dummies[num_columns].min())\n",
    "all_data_dummies[s.columns] = s\n"
   ]
  },
  {
   "cell_type": "code",
   "execution_count": 8,
   "metadata": {},
   "outputs": [
    {
     "name": "stderr",
     "output_type": "stream",
     "text": [
      "D:\\ProgramData\\Anaconda3\\lib\\site-packages\\sklearn\\utils\\deprecation.py:58: DeprecationWarning: Class Imputer is deprecated; Imputer was deprecated in version 0.20 and will be removed in 0.22. Import impute.SimpleImputer from sklearn instead.\n",
      "  warnings.warn(msg, category=DeprecationWarning)\n"
     ]
    }
   ],
   "source": [
    "im = Imputer(strategy=\"most_frequent\",axis=1)#众数填充\n",
    "filled_nan_data = im.fit_transform(all_data_dummies)\n",
    "filled_nan_data=pd.DataFrame(filled_nan_data,index=range(1,len(all_data)+1))\n",
    "filled_nan_data.columns=all_data_dummies.columns"
   ]
  },
  {
   "cell_type": "code",
   "execution_count": null,
   "metadata": {
    "collapsed": true
   },
   "outputs": [],
   "source": [
    "\n",
    " "
   ]
  },
  {
   "cell_type": "code",
   "execution_count": 9,
   "metadata": {},
   "outputs": [
    {
     "name": "stderr",
     "output_type": "stream",
     "text": [
      "D:\\ProgramData\\Anaconda3\\lib\\site-packages\\sklearn\\model_selection\\_split.py:2179: FutureWarning: From version 0.21, test_size will always complement train_size unless both are specified.\n",
      "  FutureWarning)\n"
     ]
    },
    {
     "data": {
      "text/plain": [
       "(7200, 564)"
      ]
     },
     "execution_count": 9,
     "metadata": {},
     "output_type": "execute_result"
    }
   ],
   "source": [
    "X =filled_nan_data.loc[train_df.index]#重新分开数据，\n",
    "X_test=filled_nan_data.loc[test_df.index]#X_val 就是要预测的x\n",
    "X_train,X_val,y_train,y_val = train_test_split(X,y,train_size=0.9,random_state=10)\n",
    "\n",
    "X_train.shape"
   ]
  },
  {
   "cell_type": "code",
   "execution_count": 23,
   "metadata": {},
   "outputs": [
    {
     "data": {
      "text/plain": [
       "(800, 229)"
      ]
     },
     "execution_count": 23,
     "metadata": {},
     "output_type": "execute_result"
    }
   ],
   "source": [
    "from sklearn.feature_selection import VarianceThreshold #导入python的相关模块\n",
    "sel=VarianceThreshold(threshold=(0.01))#表示剔除特征的方差大于阈值的特征Removing features with low variance\n",
    "col_selected=sel.fit_transform(X_train)#返回的结果为选择的特征矩阵\n",
    "\n",
    "col_selected_val=sel.transform(X_val)\n",
    "col_selected_val.shape"
   ]
  },
  {
   "cell_type": "code",
   "execution_count": 9,
   "metadata": {
    "collapsed": true
   },
   "outputs": [],
   "source": [
    "#使用Lasso筛选特征\n",
    "\n",
    "from sklearn.svm import LinearSVR\n",
    "from sklearn.feature_selection import SelectFromModel\n",
    "\n",
    "\n",
    "lsvc = LinearSVR(C=0.01).fit(X_train, y_train)\n",
    "model = SelectFromModel(lsvc, prefit=True)\n",
    "X_train= model.transform(X_train)\n",
    "X_val=model.transform(X_val)"
   ]
  },
  {
   "cell_type": "code",
   "execution_count": 10,
   "metadata": {},
   "outputs": [
    {
     "data": {
      "text/plain": [
       "((7200, 172), (800, 172))"
      ]
     },
     "execution_count": 10,
     "metadata": {},
     "output_type": "execute_result"
    }
   ],
   "source": [
    "X_train.shape,X_val.shape"
   ]
  },
  {
   "cell_type": "code",
   "execution_count": 25,
   "metadata": {
    "scrolled": true
   },
   "outputs": [
    {
     "name": "stdout",
     "output_type": "stream",
     "text": [
      "Fitting 5 folds for each of 1 candidates, totalling 5 fits\n",
      "[CV]  ................................................................\n"
     ]
    },
    {
     "name": "stderr",
     "output_type": "stream",
     "text": [
      "[Parallel(n_jobs=1)]: Using backend SequentialBackend with 1 concurrent workers.\n"
     ]
    },
    {
     "name": "stdout",
     "output_type": "stream",
     "text": [
      "[CV] ...................... , score=-0.5758523651534384, total=   3.2s\n",
      "[CV]  ................................................................\n"
     ]
    },
    {
     "name": "stderr",
     "output_type": "stream",
     "text": [
      "[Parallel(n_jobs=1)]: Done   1 out of   1 | elapsed:    3.3s remaining:    0.0s\n"
     ]
    },
    {
     "name": "stdout",
     "output_type": "stream",
     "text": [
      "[CV] ...................... , score=-0.5440701986115977, total=   3.0s\n",
      "[CV]  ................................................................\n"
     ]
    },
    {
     "name": "stderr",
     "output_type": "stream",
     "text": [
      "[Parallel(n_jobs=1)]: Done   2 out of   2 | elapsed:    6.5s remaining:    0.0s\n"
     ]
    },
    {
     "name": "stdout",
     "output_type": "stream",
     "text": [
      "[CV] ...................... , score=-0.5091057615212295, total=   3.0s\n",
      "[CV]  ................................................................\n",
      "[CV] ...................... , score=-0.4886340268651916, total=   3.0s\n",
      "[CV]  ................................................................\n",
      "[CV] ...................... , score=-0.5486700381407981, total=   3.0s\n"
     ]
    },
    {
     "name": "stderr",
     "output_type": "stream",
     "text": [
      "[Parallel(n_jobs=1)]: Done   5 out of   5 | elapsed:   16.0s finished\n"
     ]
    },
    {
     "name": "stdout",
     "output_type": "stream",
     "text": [
      "XGBRegressor(base_score=0.5, booster='gbtree', colsample_bylevel=1,\n",
      "       colsample_bytree=0.7, gamma=0, learning_rate=0.105,\n",
      "       max_delta_step=0, max_depth=3, min_child_weight=1, missing=None,\n",
      "       n_estimators=100, n_jobs=-1, nthread=None, objective='reg:linear',\n",
      "       random_state=42, reg_alpha=0, reg_lambda=1, scale_pos_weight=1,\n",
      "       seed=0, silent=True, subsample=0.89)\n",
      "参数的最佳取值：{}\n",
      "最佳模型得分:-0.5332664780584511\n",
      "泛化性能均方误差: 0.5702443141216311\n"
     ]
    }
   ],
   "source": [
    "#调参\n",
    "from sklearn.linear_model import BayesianRidge\n",
    "from sklearn.svm import  SVR\n",
    "from sklearn.neighbors import KNeighborsRegressor\n",
    "cv_params = {\n",
    "#             'n_neighbors':[3,4,5,6,7]\n",
    "#             'learning_rate': [0.5,0.4,0.3,0.2,0.1,0.075,0.05,0.04,0.03],\n",
    "#             'subsample':[ 0.1 * i for i in range(6,9)],\n",
    "#             'colsample_bytree':[ 0.1 * i for i in range(6,9)],\n",
    "#             'gamma':[ 0.1 * i for i in range(0,5)],\n",
    "#             'max_depth': list(range(4,9)), \n",
    "#             'min_child_weight': list((1,3,6))\n",
    "}\n",
    "# cv_params = {'n_estimators': [100,150]}\n",
    "other_params = { 'max_depth': 3, 'min_child_weight': 1, 'seed': 0,'random_state':42,'learning_rate':0.105,\n",
    "                'subsample':0.89, 'colsample_bytree': 0.7, 'gamma': 0, 'reg_alpha': 0, 'reg_lambda': 1,'n_jobs':-1}\n",
    "\n",
    "# model = KNeighborsRegressor()\n",
    "model = XGBRegressor(**other_params)\n",
    "optimized_GBM = GridSearchCV(estimator=model, param_grid=cv_params, scoring='neg_mean_squared_error', cv=5, verbose=3)\n",
    "optimized_GBM.fit(X=col_selected,y= (y_train))\n",
    "print(optimized_GBM.best_estimator_)\n",
    "print('参数的最佳取值：{0}'.format(optimized_GBM.best_params_))\n",
    "print('最佳模型得分:{0}'.format(optimized_GBM.best_score_))\n",
    "y_pred=optimized_GBM.best_estimator_.predict(col_selected_val)\n",
    "print('泛化性能均方误差:',np.mean((y_val-(y_pred))**2))"
   ]
  },
  {
   "cell_type": "code",
   "execution_count": 12,
   "metadata": {},
   "outputs": [
    {
     "name": "stderr",
     "output_type": "stream",
     "text": [
      "D:\\ProgramData\\Anaconda3\\lib\\site-packages\\sklearn\\svm\\base.py:196: FutureWarning: The default value of gamma will change from 'auto' to 'scale' in version 0.22 to account better for unscaled features. Set gamma explicitly to 'auto' or 'scale' to avoid this warning.\n",
      "  \"avoid this warning.\", FutureWarning)\n"
     ]
    },
    {
     "name": "stdout",
     "output_type": "stream",
     "text": [
      "开始Stacking....\n",
      "0.6691160401712317\n"
     ]
    }
   ],
   "source": [
    "#模型的融合\n",
    "from sklearn.ensemble import RandomForestRegressor\n",
    "from sklearn.linear_model import LogisticRegression\n",
    "from sklearn.linear_model import Ridge\n",
    "from sklearn.svm import  SVR\n",
    "#Stacking\n",
    "\n",
    "clfs = [\n",
    "          BayesianRidge()\n",
    "          ,SVR()\n",
    "        ,KNeighborsRegressor()\n",
    "]\n",
    "#训练过程\n",
    "dataset_stack_train = np.zeros((X_train.shape[0],len(clfs)))\n",
    "dataset_stack_test = np.zeros((X_val.shape[0],len(clfs)))\n",
    "for j,clf in enumerate(clfs):\n",
    "    clf.fit(X_train,y_train)\n",
    "    y_submission = clf.predict(X_val)\n",
    "    y_train_tmp = clf.predict(X_train)\n",
    "    dataset_stack_train[:,j] = y_train_tmp\n",
    "    dataset_stack_test[:,j] = y_submission\n",
    "print(\"开始Stacking....\")\n",
    "\n",
    "clf = Ridge()\n",
    "# clf=XGBRegressor(max_depth=3,learning_rate=0.105,n_estimators=100,subsample=0.89,silent=False)\n",
    "clf.fit(dataset_stack_train,y_train)\n",
    "y_submission = clf.predict(dataset_stack_test)\n",
    "print(np.mean((y_val-y_submission)**2))"
   ]
  },
  {
   "cell_type": "code",
   "execution_count": 13,
   "metadata": {},
   "outputs": [
    {
     "data": {
      "text/plain": [
       "array([ 3.91097775,  4.38759991,  3.8120743 ,  3.67992451,  4.08574046,\n",
       "        4.26468895,  3.8994642 ,  4.23179077,  3.66791729,  3.80613252,\n",
       "        4.29502396,  4.20188269,  3.49610402,  3.4297816 ,  3.65543183,\n",
       "        3.81336567,  3.04709085,  4.4646575 ,  4.09828984,  3.83064743,\n",
       "        3.22089725,  3.73753126,  3.48514453,  4.4701798 ,  3.40026291,\n",
       "        5.007425  ,  3.44863315,  3.78092235,  3.96324569,  3.31465746,\n",
       "        3.40969795,  4.02118905,  3.52428821,  4.23620447,  3.83047111,\n",
       "        3.77262241,  4.23237899,  3.99426322,  3.79947856,  4.53300147,\n",
       "        3.31046271,  3.83244878,  4.11827161,  3.33619952,  4.38936828,\n",
       "        4.01010314,  3.30790008,  3.63041191,  4.48192178,  3.74506258,\n",
       "        4.28957322,  2.49601323,  3.29979083,  3.8974856 ,  3.48809577,\n",
       "        3.70071687,  3.97685236,  2.75707397,  4.21911121,  4.66282895,\n",
       "        2.67350387,  3.77337948,  2.88617063,  3.66825337,  3.3698808 ,\n",
       "        3.42523404,  4.11295599,  3.76172863,  3.78501679,  4.29824555,\n",
       "        3.643075  ,  4.50786727,  3.68130908,  4.10450063,  3.8488809 ,\n",
       "        4.35663292,  3.91925844,  4.1223346 ,  3.8579219 ,  4.51096731,\n",
       "        3.77733256,  3.80666932,  4.0362331 ,  3.64844752,  3.85136347,\n",
       "        4.32465011,  4.03163031,  3.97567974,  3.81778415,  3.70795554,\n",
       "        4.18386914,  3.2940691 ,  4.31982329,  4.89640862,  3.96971472,\n",
       "        4.06959334,  3.41566174,  3.89691566,  4.21259335,  3.6947829 ,\n",
       "        4.01143884,  3.31326621,  3.79851401,  4.37830849,  4.31435744,\n",
       "        3.7464061 ,  4.17473061,  3.99163244,  3.57427831,  3.44938927,\n",
       "        4.40320372,  3.67775019,  4.23658154,  4.0238666 ,  2.44364321,\n",
       "        5.15974752,  3.66612467,  4.11371258,  3.46151927,  4.08693591,\n",
       "        4.22955953,  4.11856117,  3.90173495,  3.4802376 ,  4.77969251,\n",
       "        4.12365025,  2.85203069,  4.09724686,  4.65753928,  4.02723291,\n",
       "        3.19287255,  4.23447633,  3.7672283 ,  4.17342201,  3.38217083,\n",
       "        4.03090741,  3.66480262,  4.11271835,  2.84685484,  3.57165922,\n",
       "        4.11266922,  4.03128466,  3.86215706,  3.72900965,  2.6269932 ,\n",
       "        3.71818051,  4.42086296,  4.00592774,  4.02107165,  3.73811512,\n",
       "        3.23793826,  4.02202327,  4.02719211,  4.13485941,  4.46542985,\n",
       "        4.20833252,  3.58419489,  3.72665784,  3.88765031,  2.76589269,\n",
       "        3.60003105,  3.81345712,  3.98743224,  3.92530735,  3.99367589,\n",
       "        3.69249876,  3.53329237,  4.13315533,  4.00594273,  3.9388661 ,\n",
       "        3.41131828,  3.30569759,  4.22187564,  3.92887313,  4.12928126,\n",
       "        4.07889104,  4.16132171,  3.50428472,  2.98522946,  3.00944483,\n",
       "        4.68085841,  3.73517849,  4.51485542,  3.65748643,  4.00139153,\n",
       "        4.05082489,  4.19225325,  4.0261374 ,  3.73964818,  4.2030094 ,\n",
       "        3.42242217,  3.59756539,  3.94717178,  3.78260929,  2.47053636,\n",
       "        3.1994099 ,  3.26811606,  2.85146386,  4.69398101,  3.66878992,\n",
       "        4.59240741,  3.93041467,  3.83325327,  3.78764611,  3.80626364,\n",
       "        2.92067128,  4.04035499,  2.84422242,  4.08445103,  3.54853529,\n",
       "        2.36791482,  3.30815607,  4.92064773,  4.12692309,  4.13498913,\n",
       "        4.12372017,  4.45994549,  3.59728832,  4.22330638,  3.63588899,\n",
       "        3.63094213,  3.53124848,  2.84514109,  4.03692952,  4.40465127,\n",
       "        4.40358557,  4.38058941,  3.83230983,  2.83629902,  4.4437657 ,\n",
       "        3.65015994,  3.46041632,  3.29744706,  4.42348927,  3.96411222,\n",
       "        4.42765362,  3.74390201,  4.05330468,  3.47518922,  4.44022024,\n",
       "        4.44414532,  4.07810929,  3.43218059,  4.36095623,  3.88962033,\n",
       "        4.14553526,  4.10661495,  4.58763105, -0.08918324,  3.05500151,\n",
       "        3.51491045,  3.70694114,  4.09027076,  3.22359752,  4.89556266,\n",
       "        4.21364163,  3.00332464,  4.02684131,  2.79262281,  4.28939944,\n",
       "        3.78548039,  3.92663154,  4.09504322,  3.9564774 ,  3.30061925,\n",
       "        2.90980135,  3.87501057,  3.02281006,  3.09181851,  4.04840928,\n",
       "        3.85149543,  4.14939143,  3.50133527,  3.25535532,  3.91431634,\n",
       "        4.24550696,  3.72692953,  4.12201714,  3.60081495,  4.36223533,\n",
       "        3.7300302 ,  3.90022314,  3.67097213,  3.94432196,  4.11167877,\n",
       "        2.01963478,  3.27509999,  3.53424015,  3.66928429,  3.76038775,\n",
       "        2.78825248,  3.1869255 ,  3.62947641,  3.7206934 ,  3.65057172,\n",
       "        4.19758549,  4.2396063 ,  4.03809946,  3.23429188,  2.9280594 ,\n",
       "        3.9358798 ,  3.87508125,  3.94626258,  3.97098067,  4.50280775,\n",
       "        4.294339  ,  4.75841257,  4.71637675,  3.74326572,  3.42745494,\n",
       "        4.80209569,  4.40820515,  3.39286237,  3.67557966,  4.16824028,\n",
       "        3.98576272,  3.9969687 ,  3.85180577,  3.9992987 ,  3.62098438,\n",
       "        4.14119988,  3.79074261,  3.90971271,  3.31248878,  3.68529591,\n",
       "        4.09202683,  3.9064009 ,  3.84595607,  3.62462784,  4.24759028,\n",
       "        3.43923692,  3.63272059,  3.02370855,  3.64381278,  3.96766734,\n",
       "        2.61667459,  3.37056843,  4.10452137,  4.05643756,  3.50268413,\n",
       "        2.69635653,  3.88940529,  3.91958696,  3.47623863,  4.36073827,\n",
       "        3.92731648,  3.9718846 ,  4.36592197,  3.27975495,  3.79344946,\n",
       "        3.93122923,  4.60270861,  3.93783581,  3.92433694,  4.07571733,\n",
       "        4.32647413,  3.23846637,  4.16729693,  4.58944487,  4.47244845,\n",
       "        4.67098609,  3.89105644,  4.01356106,  4.09758326,  3.76217351,\n",
       "        3.92627523,  4.24192361,  3.85263874,  3.72094049,  4.84466599,\n",
       "        4.2907469 ,  3.78640704,  4.11574754,  4.01581549,  3.56527214,\n",
       "        3.67055844,  3.58139057,  4.17825482,  3.6471668 ,  3.00767572,\n",
       "        3.79863038,  4.01119721,  3.82922584,  3.83273181,  3.61705888,\n",
       "        3.65998827,  4.11153461,  3.41333815,  4.37758276,  4.07810398,\n",
       "        4.24204956,  3.91472491,  2.5615022 ,  4.32744411,  2.99547641,\n",
       "        3.38572652,  4.41772562,  4.39340762,  4.15084072,  3.48162356,\n",
       "        4.22758106,  4.15947412,  3.83053866,  3.3907544 ,  4.46289394,\n",
       "        3.6023717 ,  4.09389664,  4.16776733,  4.01261244,  3.7923908 ,\n",
       "        3.22170412,  2.63929748,  3.95905829,  4.25058611,  2.76608024,\n",
       "        4.19488328,  4.08517318,  4.0781764 ,  4.35284089,  3.73839514,\n",
       "        4.37411684,  3.98447128,  4.03398121,  3.9293577 ,  3.40174134,\n",
       "        3.35751176,  3.4527963 ,  3.88395865,  3.66229174,  3.83814461,\n",
       "        4.40252157,  3.95451098,  3.51833049,  3.0609566 ,  3.406867  ,\n",
       "        3.63787563,  4.05474822,  4.2269419 ,  3.38414438,  3.86879402,\n",
       "        3.8903006 ,  4.18214951,  4.33883383,  3.8943122 ,  4.10838923,\n",
       "        4.3209193 ,  3.37555323,  4.54653582,  3.91042999,  4.33368798,\n",
       "        4.18401248,  3.33828363,  2.46576227,  3.69637402,  4.29398121,\n",
       "        3.08927327,  3.38903585,  3.66870264,  3.82274014,  3.49488497,\n",
       "        3.4741372 ,  4.34924587,  3.81660098,  3.62786786,  4.19262112,\n",
       "        3.52836851,  3.88813851,  3.0197872 ,  4.29304928,  3.62852006,\n",
       "        4.06699307,  3.83796542,  3.79082639,  3.82510793,  3.93873567,\n",
       "        4.06452108,  4.12351815,  3.81477052,  3.97147966,  2.53894233,\n",
       "        3.54302799,  4.41866345,  4.05113486,  3.57606513,  3.7792363 ,\n",
       "        3.96212277,  3.28942245,  3.83753468,  3.81514202,  4.39050425,\n",
       "        4.52641019,  2.65999862,  3.98124252,  4.48720452,  3.86498645,\n",
       "        4.17599431,  4.24139084,  3.60407277,  3.65414092,  2.35146959,\n",
       "        3.11820522,  3.42944187,  3.4489547 ,  3.56257472,  3.05073589,\n",
       "        3.4032843 ,  3.26991112,  3.41732513,  3.52375749,  2.7358022 ,\n",
       "        4.11039822,  4.13689576,  4.36519228,  4.21514484,  3.456355  ,\n",
       "        2.91687735,  4.22533372,  3.35759087,  4.62928566,  4.29096415,\n",
       "        4.43432833,  3.36043   ,  3.10777146,  4.39318195,  3.89774539,\n",
       "        3.68530041,  4.04307175,  3.95822192,  4.00872518,  3.66350168,\n",
       "        3.85662176,  3.94424859,  4.19772219,  4.20950305,  4.14604662,\n",
       "        3.90067425,  4.18719918,  3.30467933,  4.15039921,  2.5479064 ,\n",
       "        3.41035859,  3.64370303,  4.09280151,  3.48705031,  4.39538188,\n",
       "        4.25801643,  3.97862967,  4.30240414,  3.88364832,  3.60810784,\n",
       "        4.48333268,  2.95429455,  3.47616662,  4.30773941,  4.04741603,\n",
       "        4.32869171,  4.19178792,  4.52541144,  3.34242532,  4.38367811,\n",
       "        3.99270237,  3.50269825,  4.00495551,  3.92270206,  3.72187664,\n",
       "        4.14123974,  4.33846077,  3.70698854,  3.46943405,  3.13175288,\n",
       "        4.26091415,  4.02292179,  4.22289621,  4.30515951,  3.67467105,\n",
       "        3.97484344,  4.00866638,  3.16142923,  3.40516942,  3.17309183,\n",
       "        3.0853405 ,  4.06050959,  4.09437864,  4.52875819,  4.51498401,\n",
       "        3.19304337,  3.34948108,  4.30728934,  4.03459475,  4.99420596,\n",
       "        4.21769619,  4.32413373,  3.89822738,  4.1884307 ,  4.56353396,\n",
       "        3.81211998,  3.53322175,  3.4048543 ,  3.58838602,  3.29671799,\n",
       "        4.09475979,  3.44957202,  4.03296407,  4.27969119,  4.38603172,\n",
       "        3.75605071,  4.23944943,  3.00712778,  4.18518557,  4.04668743,\n",
       "        3.72013087,  4.19045542,  3.89642497,  4.05880284,  4.01467881,\n",
       "        4.05385903,  3.65877988,  3.37118839,  3.71837976,  4.83929874,\n",
       "        3.66790234,  3.61462925,  4.15482811,  4.39752956,  3.93003881,\n",
       "        3.87277801,  3.59253282,  3.54694143,  1.69014832,  4.01453308,\n",
       "        4.47929737,  3.65524719,  4.14926494,  4.21221945,  3.89162537,\n",
       "        2.89040534,  4.39119216,  4.32079611,  3.80415252,  3.91363457,\n",
       "        4.27354025,  3.7145218 ,  3.23010762,  3.58873492,  4.16581047,\n",
       "        4.09483506,  4.04225419,  3.98218786,  3.84105633,  4.08570763,\n",
       "        2.8186146 ,  3.74920127,  4.27925522,  3.96058623,  4.46941846,\n",
       "        4.33087514,  4.22614396,  4.01143073,  4.84899634,  4.4232647 ,\n",
       "        3.56595692,  3.56980447,  3.93048947,  4.54878385,  3.90404639,\n",
       "        4.45184733,  3.84355046,  4.17957482,  3.5530954 ,  4.30713142,\n",
       "        3.53185106,  3.93896579,  4.17153333,  3.64736414,  3.98336214,\n",
       "        3.83275233,  3.8394802 ,  3.95834487,  4.47484136,  4.57674681,\n",
       "        3.55116652,  3.71564383,  3.0021851 ,  4.39616121,  3.73767388,\n",
       "        4.48568938,  3.81837869,  4.39433249,  4.18033792,  3.83332278,\n",
       "        4.40166266,  4.35455562,  3.7531247 ,  4.18122775,  3.8754308 ,\n",
       "        3.53277521,  3.36478123,  4.27581056,  3.52380918,  2.94081469,\n",
       "        4.47726778,  5.0754886 ,  4.69325082,  3.61257651,  3.45782942,\n",
       "        4.12010465,  3.69626591,  3.81670981,  3.83396235,  4.6650938 ,\n",
       "        3.68444182,  3.54079522,  3.32650539,  3.78389877,  4.66461941,\n",
       "        3.93917265,  4.80368497,  3.97695108,  4.46548617,  3.71139978,\n",
       "        4.40764052,  3.85234386,  3.34626306,  3.84096583,  3.82782939,\n",
       "        3.90982873,  3.45456256,  3.89954014,  4.33584941,  4.58970251,\n",
       "        3.33468168,  4.36769599,  4.44922843,  3.74867013,  3.71590368,\n",
       "        1.96528317,  4.58167022,  4.3688477 ,  3.64007854,  3.81839597,\n",
       "        4.58048974,  4.19102732,  3.742711  ,  3.53947514,  4.0954431 ,\n",
       "        4.06604721,  4.46329643,  4.2045896 ,  3.04613373,  4.18907002,\n",
       "        4.25958482,  3.90777499,  3.26359825,  4.0609743 ,  4.61060478,\n",
       "        3.59081238,  4.60253045,  4.60821771,  4.72395509,  4.14559143,\n",
       "        3.7523401 ,  2.70827256,  4.53812436,  4.16539515,  4.13580576,\n",
       "        3.89636252,  4.02700992,  4.06936375,  3.86893544,  3.9429426 ,\n",
       "        4.12103246,  4.74487844,  4.15272171,  3.8467676 ,  3.270172  ,\n",
       "        3.3492852 ,  4.44214366,  4.61990258,  2.89224897,  4.385806  ,\n",
       "        4.09471857,  3.85624556,  3.68312889,  4.35697338,  4.49304389,\n",
       "        4.41394818,  3.45819603,  3.54222574,  3.79926978,  3.49133087,\n",
       "        3.74560132,  4.12501061,  4.35257908,  3.74633674,  2.73097885,\n",
       "        3.6242203 ,  5.27255036,  3.09263147,  3.50045262,  3.56780276])"
      ]
     },
     "execution_count": 13,
     "metadata": {},
     "output_type": "execute_result"
    }
   ],
   "source": [
    "y_submission"
   ]
  },
  {
   "cell_type": "code",
   "execution_count": null,
   "metadata": {
    "collapsed": true
   },
   "outputs": [],
   "source": []
  }
 ],
 "metadata": {
  "kernelspec": {
   "display_name": "Python 3",
   "language": "python",
   "name": "python3"
  },
  "language_info": {
   "codemirror_mode": {
    "name": "ipython",
    "version": 3
   },
   "file_extension": ".py",
   "mimetype": "text/x-python",
   "name": "python",
   "nbconvert_exporter": "python",
   "pygments_lexer": "ipython3",
   "version": "3.6.1"
  }
 },
 "nbformat": 4,
 "nbformat_minor": 2
}
