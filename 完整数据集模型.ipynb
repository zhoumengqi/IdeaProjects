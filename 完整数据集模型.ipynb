{
 "cells": [
  {
   "cell_type": "code",
   "execution_count": 4,
   "metadata": {},
   "outputs": [],
   "source": [
    "import pandas as pd\n",
    "train_df=pd.read_csv('./happiness_train_complete.csv',index_col=0,encoding='gb2312')\n",
    "test_df=pd.read_csv('./happiness_test_complete.csv',index_col=0,encoding='gb2312')\n",
    "import  seaborn as sns"
   ]
  },
  {
   "cell_type": "code",
   "execution_count": 7,
   "metadata": {},
   "outputs": [
    {
     "name": "stdout",
     "output_type": "stream",
     "text": [
      "Index(['happiness', 'survey_type', 'province', 'city', 'county', 'survey_time',\n",
      "       'gender', 'birth', 'nationality', 'religion',\n",
      "       ...\n",
      "       'neighbor_familiarity', 'public_service_1', 'public_service_2',\n",
      "       'public_service_3', 'public_service_4', 'public_service_5',\n",
      "       'public_service_6', 'public_service_7', 'public_service_8',\n",
      "       'public_service_9'],\n",
      "      dtype='object', length=139)\n"
     ]
    }
   ],
   "source": [
    "print(train_df.columns)"
   ]
  },
  {
   "cell_type": "code",
   "execution_count": null,
   "metadata": {
    "collapsed": true
   },
   "outputs": [],
   "source": []
  }
 ],
 "metadata": {
  "kernelspec": {
   "display_name": "Python 3",
   "language": "python",
   "name": "python3"
  },
  "language_info": {
   "codemirror_mode": {
    "name": "ipython",
    "version": 3
   },
   "file_extension": ".py",
   "mimetype": "text/x-python",
   "name": "python",
   "nbconvert_exporter": "python",
   "pygments_lexer": "ipython3",
   "version": "3.6.1"
  }
 },
 "nbformat": 4,
 "nbformat_minor": 2
}
